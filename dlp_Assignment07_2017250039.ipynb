{
  "nbformat": 4,
  "nbformat_minor": 0,
  "metadata": {
    "colab": {
      "provenance": [],
      "collapsed_sections": [
        "Trkok1Y20A6f",
        "jJkTAvNL0A6v",
        "0PT6hhuYSl7I",
        "K6B3Qc9F0A7C",
        "qDwTdqQrSv-X",
        "OIVl9aNJS1GR",
        "MdVJRgjPS1wd",
        "1D6hjRb0S3A3",
        "jUYYLII7S3wz",
        "pZx4Vs3VS4dS",
        "MXBTQG8URXhT",
        "qfGXKMUtUb1S",
        "E96y47IvaQFj"
      ]
    },
    "kernelspec": {
      "display_name": "Python 3",
      "language": "python",
      "name": "python3"
    },
    "language_info": {
      "codemirror_mode": {
        "name": "ipython",
        "version": 3
      },
      "file_extension": ".py",
      "mimetype": "text/x-python",
      "name": "python",
      "nbconvert_exporter": "python",
      "pygments_lexer": "ipython3",
      "version": "3.8.8"
    }
  },
  "cells": [
    {
      "cell_type": "markdown",
      "metadata": {
        "id": "SzWOp6xUkCP2"
      },
      "source": [
        "# 연습문제: LSTM 모델 성능 향상시키기"
      ]
    },
    {
      "cell_type": "markdown",
      "metadata": {
        "id": "byzltd4ikCP7"
      },
      "source": [
        "### 문제 1\n",
        "\n",
        "예나(Jena) 도시의 날씨 데이터를 활용하여 LSTM 또는 GRU 모델을 구현한 후\n",
        "성능을 최대한 끌어올리는 과정을 묘사하라.\n",
        "\n",
        "- 층의 유닛 개수 및 드랍아웃 비율 조정\n",
        "- RMSprop 등의 옵티마이저의 학습률 조정 및 다른 옵티마이저 활용\n",
        "- 순환층 이후에 여러 개의 밀집층 적용\n",
        "- 시퀀스 길이 조정, 샘플 선택 비율 조정 등 기타 특성 엔지니어링 시도.\n",
        "\n",
        "**참고**: [10장 시계열 데이터와 순환 신경망](https://codingalzi.github.io/dlp/notebooks/dlp10_dl_for_timeseries.html)\n",
        "\n",
        "**힌트**: `recurrent_dropout` 옵션을 사용할 경우 `unroll=True` 옵션을 함께\n",
        "활용해야 GPU를 활용할 수 있다. \n",
        "하나의 시퀀스 길이가 100 이하로 지정되어야 함에 주의하라."
      ]
    },
    {
      "cell_type": "markdown",
      "metadata": {
        "id": "Trkok1Y20A6f"
      },
      "source": [
        "### 데이터셋 준비"
      ]
    },
    {
      "cell_type": "markdown",
      "metadata": {
        "id": "ueAlAJvd0A6g"
      },
      "source": [
        "독일 예나(Jena)시에 위치한 막스-플랑크(Max-Planck) 생지화확(Biogeochemistry) 연구소가\n",
        "수 년동안 온도, 기압, 풍향 등 14 종류의 기상 데이터를 10분 단위로 측정해서 수집한 데이터셋이다. \n",
        "원래 2003년부터 측정하였지만 여기서는 2009-2016년 데이터만 이용한다. "
      ]
    },
    {
      "cell_type": "markdown",
      "metadata": {
        "id": "89pP15H-0A6g"
      },
      "source": [
        "**zip 파일 다운로드 및 압축풀기**\n",
        "\n",
        "\"jena_climate_2009_2016.csv\" 파일이 생성된다."
      ]
    },
    {
      "cell_type": "code",
      "metadata": {
        "colab": {
          "base_uri": "https://localhost:8080/"
        },
        "id": "TfiOqzrw0A6h",
        "outputId": "f65abb42-10c1-4bed-cbfe-d1ae0bd648e9"
      },
      "source": [
        "if 'google.colab' in str(get_ipython()):\n",
        "    !wget https://s3.amazonaws.com/keras-datasets/jena_climate_2009_2016.csv.zip\n",
        "    !unzip jena_climate_2009_2016.csv.zip\n",
        "else: \n",
        "    try: \n",
        "        import wget, zipfile\n",
        "    except ModuleNotFoundError: \n",
        "        !pip install wget\n",
        "        \n",
        "    import wget, zipfile\n",
        "    wget.download('https://s3.amazonaws.com/keras-datasets/jena_climate_2009_2016.csv.zip')\n",
        "    with zipfile.ZipFile('jena_climate_2009_2016.csv.zip', 'r') as zip_ref:\n",
        "        zip_ref.extractall('./')"
      ],
      "execution_count": null,
      "outputs": [
        {
          "output_type": "stream",
          "name": "stdout",
          "text": [
            "--2021-11-30 07:04:34--  https://s3.amazonaws.com/keras-datasets/jena_climate_2009_2016.csv.zip\n",
            "Resolving s3.amazonaws.com (s3.amazonaws.com)... 52.217.38.190\n",
            "Connecting to s3.amazonaws.com (s3.amazonaws.com)|52.217.38.190|:443... connected.\n",
            "HTTP request sent, awaiting response... 200 OK\n",
            "Length: 13565642 (13M) [application/zip]\n",
            "Saving to: ‘jena_climate_2009_2016.csv.zip.2’\n",
            "\n",
            "jena_climate_2009_2 100%[===================>]  12.94M  45.4MB/s    in 0.3s    \n",
            "\n",
            "2021-11-30 07:04:34 (45.4 MB/s) - ‘jena_climate_2009_2016.csv.zip.2’ saved [13565642/13565642]\n",
            "\n",
            "Archive:  jena_climate_2009_2016.csv.zip\n",
            "replace jena_climate_2009_2016.csv? [y]es, [n]o, [A]ll, [N]one, [r]ename: y\n",
            "  inflating: jena_climate_2009_2016.csv  \n",
            "replace __MACOSX/._jena_climate_2009_2016.csv? [y]es, [n]o, [A]ll, [N]one, [r]ename: y\n",
            "  inflating: __MACOSX/._jena_climate_2009_2016.csv  \n"
          ]
        }
      ]
    },
    {
      "cell_type": "markdown",
      "metadata": {
        "id": "7dVxdrcl0A6m"
      },
      "source": [
        "**예나(Jena) 날씨 데이터셋 살펴보기**\n",
        "\n",
        "파일을 열어 줄(line) 단위로 쪼갠다."
      ]
    },
    {
      "cell_type": "code",
      "metadata": {
        "id": "GLyGEtHi0A6m"
      },
      "source": [
        "import os\n",
        "fname = os.path.join(\"jena_climate_2009_2016.csv\")\n",
        "\n",
        "with open(fname) as f:\n",
        "    data = f.read()\n",
        "\n",
        "lines = data.split(\"\\n\")"
      ],
      "execution_count": null,
      "outputs": []
    },
    {
      "cell_type": "markdown",
      "metadata": {
        "id": "G5DJkee00A6n"
      },
      "source": [
        "첫째 줄은 날짜와 시간 이외에 14개의 특성명이 쉼표(콤마)로 구분되어 있으며,\n",
        "총 420,451개의 데이터를 포함한다."
      ]
    },
    {
      "cell_type": "code",
      "metadata": {
        "id": "xJ0AYP4Y0A6n"
      },
      "source": [
        "header = lines[0].split(\",\")\n",
        "lines = lines[1:]"
      ],
      "execution_count": null,
      "outputs": []
    },
    {
      "cell_type": "code",
      "metadata": {
        "colab": {
          "base_uri": "https://localhost:8080/"
        },
        "id": "nZAb45f00A6o",
        "outputId": "28f4b26d-dbe6-4ce3-a972-5e863049737f"
      },
      "source": [
        "print(header)"
      ],
      "execution_count": null,
      "outputs": [
        {
          "output_type": "stream",
          "name": "stdout",
          "text": [
            "['\"Date Time\"', '\"p (mbar)\"', '\"T (degC)\"', '\"Tpot (K)\"', '\"Tdew (degC)\"', '\"rh (%)\"', '\"VPmax (mbar)\"', '\"VPact (mbar)\"', '\"VPdef (mbar)\"', '\"sh (g/kg)\"', '\"H2OC (mmol/mol)\"', '\"rho (g/m**3)\"', '\"wv (m/s)\"', '\"max. wv (m/s)\"', '\"wd (deg)\"']\n"
          ]
        }
      ]
    },
    {
      "cell_type": "code",
      "metadata": {
        "colab": {
          "base_uri": "https://localhost:8080/"
        },
        "id": "JVHhWdma0A6o",
        "outputId": "307bc883-814f-479f-8f15-1dc0958bc4b9"
      },
      "source": [
        "print(len(lines))"
      ],
      "execution_count": null,
      "outputs": [
        {
          "output_type": "stream",
          "name": "stdout",
          "text": [
            "420451\n"
          ]
        }
      ]
    },
    {
      "cell_type": "markdown",
      "metadata": {
        "id": "8yilNIwm0A6s"
      },
      "source": [
        "**넘파이 어레이로 변환**"
      ]
    },
    {
      "cell_type": "code",
      "metadata": {
        "id": "AWl2U-4m0A6s"
      },
      "source": [
        "import numpy as np\n",
        "\n",
        "temperature = np.zeros((len(lines),))\n",
        "raw_data = np.zeros((len(lines), len(header) - 1))\n",
        "\n",
        "for i, line in enumerate(lines):\n",
        "    values = [float(x) for x in line.split(\",\")[1:]]\n",
        "\n",
        "    temperature[i] = values[1]    # i 번째 온도\n",
        "    raw_data[i, :] = values[:]    # i 번째 데이터"
      ],
      "execution_count": null,
      "outputs": []
    },
    {
      "cell_type": "markdown",
      "metadata": {
        "id": "1gPf9wH30A6t"
      },
      "source": [
        "**온도 변화 그래프**"
      ]
    },
    {
      "cell_type": "code",
      "metadata": {
        "colab": {
          "base_uri": "https://localhost:8080/"
        },
        "id": "4p_eCY3-0A6t",
        "outputId": "a729fbfd-ddea-47e2-a624-c18c3bd698c5"
      },
      "source": [
        "from matplotlib import pyplot as plt\n",
        "\n",
        "plt.plot(range(len(temperature)), temperature)"
      ],
      "execution_count": null,
      "outputs": [
        {
          "output_type": "execute_result",
          "data": {
            "text/plain": [
              "[<matplotlib.lines.Line2D at 0x7f81f72f0810>]"
            ]
          },
          "metadata": {},
          "execution_count": 36
        },
        {
          "output_type": "display_data",
          "data": {
            "image/png": "[encoded data removed]",
            "text/plain": [
              "<Figure size 432x288 with 1 Axes>"
            ]
          },
          "metadata": {
            "needs_background": "light"
          }
        }
      ]
    },
    {
      "cell_type": "markdown",
      "metadata": {
        "id": "R7t1A2-40A6u"
      },
      "source": [
        "**처음 10일동안의 온도 변화**\n",
        "\n",
        "한 시간에 6번, 하루 24시간, 10일동안 측정 횟수는 `6 * 24 * 10 = 1,440`이다.\n",
        "\n",
        "- 1월 1일 - 1월 10일 기간동안 측정된 온도라 상당히 낮다.\n",
        "- 마지막 4일 동안은 일 단위 온도 변화가 주기성을 띈다. \n",
        "\n",
        "**주기성**(periodicity)은 시계열 데이터의 기본 특성 중 하나이다.\n",
        "월별 주기성은 매우 일관성을 갖는다. \n",
        "지난 몇 달동안의 데이터를 이용하여 다음 달의 평균 온도를 예측하는 일은 상대적으로 쉽다.\n",
        "반면에 일 단위의 예측은 아래 그래프에서 보듯이 훨씬 혼잡하다. "
      ]
    },
    {
      "cell_type": "code",
      "metadata": {
        "colab": {
          "base_uri": "https://localhost:8080/"
        },
        "id": "GoVVX14y0A6u",
        "outputId": "5387e211-5af1-4164-ec6e-919ea5e43164"
      },
      "source": [
        "plt.plot(range(1440), temperature[:1440])"
      ],
      "execution_count": null,
      "outputs": [
        {
          "output_type": "execute_result",
          "data": {
            "text/plain": [
              "[<matplotlib.lines.Line2D at 0x7f820b032d90>]"
            ]
          },
          "metadata": {},
          "execution_count": 37
        },
        {
          "output_type": "display_data",
          "data": {
            "image/png": "[encoded data removed]",
            "text/plain": [
              "<Figure size 432x288 with 1 Axes>"
            ]
          },
          "metadata": {
            "needs_background": "light"
          }
        }
      ]
    },
    {
      "cell_type": "markdown",
      "metadata": {
        "id": "cHa_WdRR0A6v"
      },
      "source": [
        "**훈련셋, 검증셋, 테스트셋 크기**\n",
        "\n",
        "- 훈련셋: 전체의 50%\n",
        "- 검증셋: 전체의 25%\n",
        "- 테스트셋: 전체의 25%\n",
        "\n",
        "미래에 대한 예측을 실행하므로 훈련셋, 검증셋, 테스트셋 순으로 \n",
        "보다 오래된 데이터를 사용한다. "
      ]
    },
    {
      "cell_type": "code",
      "metadata": {
        "colab": {
          "base_uri": "https://localhost:8080/"
        },
        "id": "a9a1t4_70A6v",
        "outputId": "f22e5b7f-379d-4963-c272-147ca71ad4d4"
      },
      "source": [
        "num_train_samples = int(0.5 * len(raw_data))     # 전체의 50%\n",
        "num_val_samples   = int(0.25 * len(raw_data))    # 전체의 25%\n",
        "num_test_samples  = len(raw_data) - num_train_samples - num_val_samples\n",
        "\n",
        "print(\"num_train_samples:\\t\", num_train_samples)\n",
        "print(\"num_val_samples:\\t\", num_val_samples)\n",
        "print(\"num_test_samples:\\t\", num_test_samples)"
      ],
      "execution_count": null,
      "outputs": [
        {
          "output_type": "stream",
          "name": "stdout",
          "text": [
            "num_train_samples:\t 210225\n",
            "num_val_samples:\t 105112\n",
            "num_test_samples:\t 105114\n"
          ]
        }
      ]
    },
    {
      "cell_type": "markdown",
      "metadata": {
        "id": "jJkTAvNL0A6v"
      },
      "source": [
        "### 데이터 전처리(sequence_length = 90 설정)"
      ]
    },
    {
      "cell_type": "markdown",
      "metadata": {
        "id": "_Wjqe2EV0A6w"
      },
      "source": [
        "**데이터 정규화**"
      ]
    },
    {
      "cell_type": "code",
      "metadata": {
        "id": "-sbguRmS0A6x"
      },
      "source": [
        "# 훈련셋의 평균\n",
        "mean = raw_data[:num_train_samples].mean(axis=0)\n",
        "raw_data -= mean\n",
        "\n",
        "# 훈련셋의 표준편차\n",
        "std = raw_data[:num_train_samples].std(axis=0)\n",
        "raw_data /= std"
      ],
      "execution_count": null,
      "outputs": []
    },
    {
      "cell_type": "markdown",
      "metadata": {
        "id": "nHICqUkK0A6y"
      },
      "source": [
        "**3.75일 단위 시퀀스 데이터 준비**"
      ]
    },
    {
      "cell_type": "code",
      "metadata": {
        "id": "P4c6J9_L0A6y"
      },
      "source": [
        "from tensorflow import keras\n",
        "\n",
        "# 1시간에 하나의 데이터 선택\n",
        "sampling_rate = 6\n",
        "\n",
        "# 입력 데이터 시퀀스: 지난 3.75일치(90시간) 온도 데이터\n",
        "sequence_length = 90\n",
        "\n",
        "# 타깃 설정:24시간 이후의 온도. 지연(delay)을 6일치로 지정\n",
        "delay = sampling_rate * (sequence_length + 24 - 1)\n",
        "\n",
        "# 배치 크기\n",
        "batch_size = 256\n",
        "\n",
        "# 훈련셋\n",
        "train_dataset = keras.utils.timeseries_dataset_from_array(\n",
        "    data=raw_data[:-delay],\n",
        "    targets=temperature[delay:],\n",
        "    sampling_rate=sampling_rate,\n",
        "    sequence_length=sequence_length,\n",
        "    shuffle=True, # 생성된 시퀀스들의 순서 무작위화\n",
        "    batch_size=batch_size,\n",
        "    start_index=0,\n",
        "    end_index=num_train_samples)\n",
        "\n",
        "# 검증셋\n",
        "val_dataset = keras.utils.timeseries_dataset_from_array(\n",
        "    data=raw_data[:-delay],\n",
        "    targets=temperature[delay:],\n",
        "    sampling_rate=sampling_rate,\n",
        "    sequence_length=sequence_length,\n",
        "    shuffle=True,\n",
        "    batch_size=batch_size,\n",
        "    start_index=num_train_samples,\n",
        "    end_index=num_train_samples + num_val_samples)\n",
        "\n",
        "# 테스트셋\n",
        "test_dataset = keras.utils.timeseries_dataset_from_array(\n",
        "    data=raw_data[:-delay],\n",
        "    targets=temperature[delay:],\n",
        "    sampling_rate=sampling_rate,\n",
        "    sequence_length=sequence_length,\n",
        "    shuffle=True,\n",
        "    batch_size=batch_size,\n",
        "    start_index=num_train_samples + num_val_samples)"
      ],
      "execution_count": null,
      "outputs": []
    },
    {
      "cell_type": "markdown",
      "metadata": {
        "id": "s9p1J2-I0A6z"
      },
      "source": [
        "생성된 새로운 데이터셋은 훈련셋의 샘플과 타깃을 함께 배치 단위로 묶여있다.\n",
        "예를 들어, 훈련셋의 첫째 배치의 모양은 다음과 같다.\n",
        "\n",
        "- 배치 크기: 256\n",
        "- 시퀀스 샘플 모양: `(90, 14)`\n",
        "    - 14개의 특성을 갖는 날씨 데이터 5일치\n",
        "\n",
        "<u>**`recurrent_dropout` 옵션을 사용하기 때문에 GPU를 활용하기 위해 `unroll=True` 옵션을 함께 활용했다.**</u>\n",
        "\n",
        "<u>**하나의 시퀀스 길이가 100 이하로 지정되어야해서 시퀀스 샘플 모양을 120에서 90으로 축소했다.**</u>"
      ]
    },
    {
      "cell_type": "code",
      "metadata": {
        "colab": {
          "base_uri": "https://localhost:8080/"
        },
        "id": "231cskoB0A6z",
        "outputId": "6788d78a-04e1-4a93-a276-66ede9643aa7"
      },
      "source": [
        "for samples, targets in train_dataset:\n",
        "    print(\"샘플 모양:\", samples.shape)\n",
        "    print(\"타깃 모양:\", targets.shape)\n",
        "    break"
      ],
      "execution_count": null,
      "outputs": [
        {
          "output_type": "stream",
          "name": "stdout",
          "text": [
            "샘플 모양: (256, 90, 14)\n",
            "타깃 모양: (256,)\n"
          ]
        }
      ]
    },
    {
      "cell_type": "markdown",
      "metadata": {
        "id": "BTBhAGUIKYME"
      },
      "source": [
        "케라스 텐서플로 레이어 불러오기"
      ]
    },
    {
      "cell_type": "code",
      "metadata": {
        "id": "VOon1RAcKXhI"
      },
      "source": [
        "from tensorflow import keras\n",
        "from tensorflow.keras import layers"
      ],
      "execution_count": null,
      "outputs": []
    },
    {
      "cell_type": "markdown",
      "metadata": {
        "id": "0PT6hhuYSl7I"
      },
      "source": [
        "### 기본 모델 (Test MAE: 2.64)"
      ]
    },
    {
      "cell_type": "code",
      "metadata": {
        "id": "XRPKpupUqZh6",
        "outputId": "3867e847-b08c-4644-9f9d-0c09a9e0a1d0"
      },
      "source": [
        "from tensorflow import keras\n",
        "from tensorflow.keras import layers\n",
        "\n",
        "# 모델 구성\n",
        "inputs = keras.Input(shape=(sequence_length, raw_data.shape[-1]))\n",
        "x = layers.Flatten()(inputs) # 1차원 데이터로 변환하기\n",
        "x = layers.Dense(16, activation=\"relu\")(x)\n",
        "outputs = layers.Dense(1)(x)\n",
        "model = keras.Model(inputs, outputs)\n",
        "\n",
        "callbacks = [\n",
        "    keras.callbacks.ModelCheckpoint(\"jena_dense.keras\",\n",
        "                                    save_best_only=True)\n",
        "]\n",
        "\n",
        "# 모델 컴파일 및 실행\n",
        "model.compile(optimizer=\"rmsprop\", loss=\"mse\", metrics=[\"mae\"])\n",
        "\n",
        "history = model.fit(train_dataset,\n",
        "                    epochs=10,\n",
        "                    validation_data=val_dataset,\n",
        "                    callbacks=callbacks)\n",
        "\n",
        "# 최선 모델 활용\n",
        "model = keras.models.load_model(\"jena_dense.keras\")\n",
        "print(f\"Test MAE: {model.evaluate(test_dataset)[1]:.2f}\")"
      ],
      "execution_count": null,
      "outputs": [
        {
          "name": "stdout",
          "output_type": "stream",
          "text": [
            "Epoch 1/10\n",
            "819/819 [==============================] - 9s 9ms/step - loss: 12.2736 - mae: 2.7183 - val_loss: 10.8664 - val_mae: 2.6009\n",
            "Epoch 2/10\n",
            "819/819 [==============================] - 7s 9ms/step - loss: 9.0685 - mae: 2.3677 - val_loss: 9.8934 - val_mae: 2.4891\n",
            "Epoch 3/10\n",
            "819/819 [==============================] - 7s 9ms/step - loss: 8.3427 - mae: 2.2740 - val_loss: 10.3937 - val_mae: 2.5519\n",
            "Epoch 4/10\n",
            "819/819 [==============================] - 7s 9ms/step - loss: 7.8283 - mae: 2.2023 - val_loss: 10.3538 - val_mae: 2.5459\n",
            "Epoch 5/10\n",
            "819/819 [==============================] - 8s 9ms/step - loss: 7.4707 - mae: 2.1519 - val_loss: 10.5405 - val_mae: 2.5723\n",
            "Epoch 6/10\n",
            "819/819 [==============================] - 7s 9ms/step - loss: 7.2358 - mae: 2.1186 - val_loss: 11.3723 - val_mae: 2.6761\n",
            "Epoch 7/10\n",
            "819/819 [==============================] - 7s 9ms/step - loss: 7.0119 - mae: 2.0874 - val_loss: 11.4496 - val_mae: 2.6884\n",
            "Epoch 8/10\n",
            "819/819 [==============================] - 7s 9ms/step - loss: 6.8604 - mae: 2.0644 - val_loss: 11.5529 - val_mae: 2.6926\n",
            "Epoch 9/10\n",
            "819/819 [==============================] - 8s 9ms/step - loss: 6.7145 - mae: 2.0424 - val_loss: 11.5238 - val_mae: 2.6896\n",
            "Epoch 10/10\n",
            "819/819 [==============================] - 7s 9ms/step - loss: 6.6103 - mae: 2.0263 - val_loss: 12.3720 - val_mae: 2.7930\n",
            "405/405 [==============================] - 3s 6ms/step - loss: 11.4121 - mae: 2.6397\n",
            "Test MAE: 2.64\n"
          ]
        }
      ]
    },
    {
      "cell_type": "markdown",
      "metadata": {
        "id": "sRlDJHGl0A7C"
      },
      "source": [
        "## 순환 신경망(LSTM 층 사용) 활용"
      ]
    },
    {
      "cell_type": "markdown",
      "metadata": {
        "id": "K6B3Qc9F0A7C"
      },
      "source": [
        "### 순환 드랍아웃 적용"
      ]
    },
    {
      "cell_type": "markdown",
      "metadata": {
        "id": "RTDxXdes0A7C"
      },
      "source": [
        "- 매 타임스텝에 대해 동일한 드랍아웃 마스크 적용\n",
        "- 두 종류의 드랍아웃 옵션 사용\n",
        "    - `dropout`: 층의 입력값에 대한 드랍아웃 비율 지정\n",
        "    - `recurrent_dropout`: 순환 유닛에 대한 드랍아웃 비율 지정"
      ]
    },
    {
      "cell_type": "markdown",
      "metadata": {
        "id": "3Xrde-Udq4NS"
      },
      "source": [
        " `unroll=True` 옵션을 데이터 전처리 과정에서 활용하였다.\n",
        " \n",
        " 나머지 옵션을 조정해서 성능을 높여보자.\n",
        "\n",
        "- 층의 유닛 개수 및 드랍아웃 비율 조정\n",
        "- RMSprop 등의 옵티마이저의 학습률 조정 및 다른 옵티마이저 활용\n",
        "- 순환층 이후에 여러 개의 밀집층 적용\n",
        "- 시퀀스 길이 조정, 샘플 선택 비율 조정 등 기타 특성 엔지니어링 시도."
      ]
    },
    {
      "cell_type": "markdown",
      "metadata": {
        "id": "qDwTdqQrSv-X"
      },
      "source": [
        "### 수정 모델 #1 (Test MAE: 2.46)"
      ]
    },
    {
      "cell_type": "markdown",
      "metadata": {
        "id": "EuNDkKJfGW1n"
      },
      "source": [
        "```python\n",
        "# 1\n",
        "# 층의 유닛 개수 수정\n",
        "x = layers.LSTM(64, recurrent_dropout=0.25, unroll=True)(inputs)\n",
        "\n",
        "# 드랍아웃 비율 조정\n",
        "x = layers.Dropout(0.55)(x)\n",
        "\n",
        "# 밀집층 10 적용\n",
        "outputs = layers.Dense(10)(x)\n",
        "\n",
        "# 다른 옵티마이저 활용\n",
        "model.compile(optimizer=\"Adam\", loss=\"mse\", metrics=[\"mae\"])\n",
        "```"
      ]
    },
    {
      "cell_type": "code",
      "metadata": {
        "colab": {
          "base_uri": "https://localhost:8080/"
        },
        "id": "_LrHxOv6Fg4L",
        "outputId": "1f4ee608-d7a0-4c84-ec4a-ccbe13becd98"
      },
      "source": [
        "inputs = keras.Input(shape=(sequence_length, raw_data.shape[-1]))\n",
        "\n",
        "x = layers.LSTM(64, recurrent_dropout=0.25, unroll=True)(inputs)\n",
        "x = layers.Dropout(0.55)(x)\n",
        "outputs = layers.Dense(10)(x)\n",
        "model = keras.Model(inputs, outputs)\n",
        "\n",
        "callbacks = [\n",
        "    keras.callbacks.ModelCheckpoint(\"jena_lstm_dropout.keras\",\n",
        "                                    save_best_only=True)\n",
        "]\n",
        "\n",
        "model.compile(optimizer=\"Adam\", loss=\"mse\", metrics=[\"mae\"])\n",
        "\n",
        "history = model.fit(train_dataset,\n",
        "                    epochs=10,\n",
        "                    validation_data=val_dataset,\n",
        "                    callbacks=callbacks)\n",
        "\n",
        "model = keras.models.load_model(\"jena_lstm_dropout.keras\")\n",
        "print(f\"Test MAE: {model.evaluate(test_dataset)[1]:.2f}\")"
      ],
      "execution_count": null,
      "outputs": [
        {
          "name": "stdout",
          "output_type": "stream",
          "text": [
            "Epoch 1/10\n",
            "820/820 [==============================] - 215s 217ms/step - loss: 30.5354 - mae: 4.0310 - val_loss: 10.1122 - val_mae: 2.4482\n",
            "Epoch 2/10\n",
            "820/820 [==============================] - 175s 212ms/step - loss: 14.1382 - mae: 2.9263 - val_loss: 9.2992 - val_mae: 2.3715\n",
            "Epoch 3/10\n",
            "820/820 [==============================] - 174s 212ms/step - loss: 13.0873 - mae: 2.8126 - val_loss: 8.8958 - val_mae: 2.3224\n",
            "Epoch 4/10\n",
            "820/820 [==============================] - 175s 213ms/step - loss: 12.4955 - mae: 2.7501 - val_loss: 8.7884 - val_mae: 2.3060\n",
            "Epoch 5/10\n",
            "820/820 [==============================] - 174s 212ms/step - loss: 12.0679 - mae: 2.6998 - val_loss: 8.8510 - val_mae: 2.3085\n",
            "Epoch 6/10\n",
            "820/820 [==============================] - 173s 210ms/step - loss: 11.7286 - mae: 2.6616 - val_loss: 8.6372 - val_mae: 2.2815\n",
            "Epoch 7/10\n",
            "820/820 [==============================] - 173s 210ms/step - loss: 11.3743 - mae: 2.6219 - val_loss: 8.7024 - val_mae: 2.2934\n",
            "Epoch 8/10\n",
            "820/820 [==============================] - 172s 210ms/step - loss: 11.0932 - mae: 2.5915 - val_loss: 8.7842 - val_mae: 2.2962\n",
            "Epoch 9/10\n",
            "820/820 [==============================] - 175s 213ms/step - loss: 10.7980 - mae: 2.5549 - val_loss: 8.8207 - val_mae: 2.3009\n",
            "Epoch 10/10\n",
            "820/820 [==============================] - 174s 211ms/step - loss: 10.6000 - mae: 2.5292 - val_loss: 8.7698 - val_mae: 2.2925\n",
            "406/406 [==============================] - 42s 88ms/step - loss: 9.7942 - mae: 2.4630\n",
            "Test MAE: 2.46\n"
          ]
        }
      ]
    },
    {
      "cell_type": "markdown",
      "metadata": {
        "id": "OIVl9aNJS1GR"
      },
      "source": [
        "### 수정 모델 #2 (Test MAE: 2.49)"
      ]
    },
    {
      "cell_type": "markdown",
      "metadata": {
        "id": "M3RPY99oSEPK"
      },
      "source": [
        "```python\n",
        "# 2\n",
        "# 층의 유닛 개수 수정\n",
        "x = layers.LSTM(64, recurrent_dropout=0.20, unroll=True)(inputs)\n",
        "\n",
        "# 드랍아웃 비율 조정\n",
        "x = layers.Dropout(0.4)(x)\n",
        "\n",
        "# 밀집층 5 적용\n",
        "outputs = layers.Dense(5)(x)\n",
        "\n",
        "# 다른 옵티마이저 활용\n",
        "model.compile(optimizer=\"Adam\", loss=\"mse\", metrics=[\"mae\"])\n",
        "```"
      ]
    },
    {
      "cell_type": "code",
      "metadata": {
        "colab": {
          "base_uri": "https://localhost:8080/"
        },
        "id": "0sLyAMwJGv8y",
        "outputId": "5d717938-5e2e-456d-aa84-8f6c2afcce1a"
      },
      "source": [
        "inputs = keras.Input(shape=(sequence_length, raw_data.shape[-1]))\n",
        "\n",
        "x = layers.LSTM(64, recurrent_dropout=0.20, unroll=True)(inputs)\n",
        "x = layers.Dropout(0.4)(x)\n",
        "outputs = layers.Dense(5)(x)\n",
        "model = keras.Model(inputs, outputs)\n",
        "\n",
        "callbacks = [\n",
        "    keras.callbacks.ModelCheckpoint(\"jena_lstm_dropout.keras\",\n",
        "                                    save_best_only=True)\n",
        "]\n",
        "\n",
        "model.compile(optimizer=\"Adam\", loss=\"mse\", metrics=[\"mae\"])\n",
        "\n",
        "history = model.fit(train_dataset,\n",
        "                    epochs=10,\n",
        "                    validation_data=val_dataset,\n",
        "                    callbacks=callbacks)\n",
        "\n",
        "model = keras.models.load_model(\"jena_lstm_dropout.keras\")\n",
        "print(f\"Test MAE: {model.evaluate(test_dataset)[1]:.2f}\")"
      ],
      "execution_count": null,
      "outputs": [
        {
          "name": "stdout",
          "output_type": "stream",
          "text": [
            "WARNING:tensorflow:Layer lstm will not use cuDNN kernels since it doesn't meet the criteria. It will use a generic GPU kernel as fallback when running on GPU.\n",
            "Epoch 1/10\n",
            "820/820 [==============================] - 260s 263ms/step - loss: 27.2209 - mae: 3.7886 - val_loss: 10.4186 - val_mae: 2.4926\n",
            "Epoch 2/10\n",
            "820/820 [==============================] - 213s 259ms/step - loss: 12.5049 - mae: 2.7579 - val_loss: 9.0695 - val_mae: 2.3386\n",
            "Epoch 3/10\n",
            "820/820 [==============================] - 211s 257ms/step - loss: 11.5209 - mae: 2.6436 - val_loss: 8.8693 - val_mae: 2.3026\n",
            "Epoch 4/10\n",
            "820/820 [==============================] - 209s 254ms/step - loss: 10.7771 - mae: 2.5589 - val_loss: 8.8376 - val_mae: 2.3115\n",
            "Epoch 5/10\n",
            "820/820 [==============================] - 211s 257ms/step - loss: 10.2678 - mae: 2.4944 - val_loss: 9.0877 - val_mae: 2.3451\n",
            "Epoch 6/10\n",
            "820/820 [==============================] - 207s 252ms/step - loss: 9.8268 - mae: 2.4396 - val_loss: 9.0177 - val_mae: 2.3406\n",
            "Epoch 7/10\n",
            "820/820 [==============================] - 208s 253ms/step - loss: 9.4450 - mae: 2.3896 - val_loss: 9.1976 - val_mae: 2.3600\n",
            "Epoch 8/10\n",
            "820/820 [==============================] - 209s 254ms/step - loss: 9.1770 - mae: 2.3509 - val_loss: 9.1646 - val_mae: 2.3476\n",
            "Epoch 9/10\n",
            "820/820 [==============================] - 209s 255ms/step - loss: 8.9037 - mae: 2.3181 - val_loss: 9.3205 - val_mae: 2.3784\n",
            "Epoch 10/10\n",
            "820/820 [==============================] - 209s 254ms/step - loss: 8.6490 - mae: 2.2831 - val_loss: 9.3509 - val_mae: 2.3781\n",
            "WARNING:tensorflow:Layer lstm will not use cuDNN kernels since it doesn't meet the criteria. It will use a generic GPU kernel as fallback when running on GPU.\n",
            "406/406 [==============================] - 52s 110ms/step - loss: 9.9255 - mae: 2.4889\n",
            "Test MAE: 2.49\n"
          ]
        }
      ]
    },
    {
      "cell_type": "markdown",
      "metadata": {
        "id": "MdVJRgjPS1wd"
      },
      "source": [
        "### 수정 모델 #3 (Test MAE: 2.46)"
      ]
    },
    {
      "cell_type": "markdown",
      "metadata": {
        "id": "YEfMpAZWTEQK"
      },
      "source": [
        "```python\n",
        "# 3\n",
        "# 층의 유닛 개수 수정\n",
        "x = layers.LSTM(64, recurrent_dropout=0.20, unroll=True)(inputs)\n",
        "\n",
        "# 드랍아웃 비율 조정\n",
        "x = layers.Dropout(0.4)(x)\n",
        "\n",
        "# 밀집층 5 적용\n",
        "outputs = layers.Dense(5)(x)\n",
        "\n",
        "# 다른 옵티마이저 활용\n",
        "model.compile(optimizer=\"Adam\", loss=\"mse\", metrics=[\"mae\"])\n",
        "\n",
        "# 훈련 횟수 20회\n",
        "history = model.fit(train_dataset,\n",
        "                    epochs=20,\n",
        "                    validation_data=val_dataset,\n",
        "                    callbacks=callbacks)\n",
        "```"
      ]
    },
    {
      "cell_type": "code",
      "metadata": {
        "colab": {
          "base_uri": "https://localhost:8080/"
        },
        "id": "DEN1ikn0TZoh",
        "outputId": "6d20773b-431c-40e7-a8c0-acafa95a7365"
      },
      "source": [
        "inputs = keras.Input(shape=(sequence_length, raw_data.shape[-1]))\n",
        "\n",
        "x = layers.LSTM(128, recurrent_dropout=0.3, unroll=True)(inputs)\n",
        "x = layers.Dropout(0.3)(x)\n",
        "outputs = layers.Dense(1)(x)\n",
        "model = keras.Model(inputs, outputs)\n",
        "\n",
        "callbacks = [\n",
        "    keras.callbacks.ModelCheckpoint(\"jena_lstm_dropout.keras\",\n",
        "                                    save_best_only=True)\n",
        "]\n",
        "\n",
        "model.compile(optimizer=\"rmsprop\", loss=\"mse\", metrics=[\"mae\"])\n",
        "\n",
        "history = model.fit(train_dataset,\n",
        "                    epochs=20,\n",
        "                    validation_data=val_dataset,\n",
        "                    callbacks=callbacks)\n",
        "\n",
        "model = keras.models.load_model(\"jena_lstm_dropout.keras\")\n",
        "print(f\"Test MAE: {model.evaluate(test_dataset)[1]:.2f}\")"
      ],
      "execution_count": null,
      "outputs": [
        {
          "name": "stdout",
          "output_type": "stream",
          "text": [
            "WARNING:tensorflow:Layer lstm_3 will not use cuDNN kernels since it doesn't meet the criteria. It will use a generic GPU kernel as fallback when running on GPU.\n",
            "Epoch 1/20\n",
            "820/820 [==============================] - 243s 249ms/step - loss: 13.4340 - mae: 2.7978 - val_loss: 9.0227 - val_mae: 2.3316\n",
            "Epoch 2/20\n",
            "820/820 [==============================] - 199s 243ms/step - loss: 10.0523 - mae: 2.4786 - val_loss: 8.6688 - val_mae: 2.2955\n",
            "Epoch 3/20\n",
            "820/820 [==============================] - 201s 244ms/step - loss: 9.0563 - mae: 2.3514 - val_loss: 9.1955 - val_mae: 2.3712\n",
            "Epoch 4/20\n",
            "820/820 [==============================] - 201s 244ms/step - loss: 8.2593 - mae: 2.2461 - val_loss: 9.2553 - val_mae: 2.3781\n",
            "Epoch 5/20\n",
            "820/820 [==============================] - 196s 238ms/step - loss: 7.6326 - mae: 2.1572 - val_loss: 9.3069 - val_mae: 2.3887\n",
            "Epoch 6/20\n",
            "820/820 [==============================] - 192s 234ms/step - loss: 7.1110 - mae: 2.0791 - val_loss: 10.0833 - val_mae: 2.4815\n",
            "Epoch 7/20\n",
            "820/820 [==============================] - 196s 239ms/step - loss: 6.6963 - mae: 2.0147 - val_loss: 10.1433 - val_mae: 2.5029\n",
            "Epoch 8/20\n",
            "820/820 [==============================] - 193s 235ms/step - loss: 6.3235 - mae: 1.9564 - val_loss: 9.8121 - val_mae: 2.4410\n",
            "Epoch 9/20\n",
            "820/820 [==============================] - 198s 240ms/step - loss: 6.0414 - mae: 1.9106 - val_loss: 10.2838 - val_mae: 2.4892\n",
            "Epoch 10/20\n",
            "820/820 [==============================] - 195s 237ms/step - loss: 5.7983 - mae: 1.8716 - val_loss: 9.8338 - val_mae: 2.4382\n",
            "Epoch 11/20\n",
            "820/820 [==============================] - 194s 236ms/step - loss: 5.5671 - mae: 1.8346 - val_loss: 10.1776 - val_mae: 2.4762\n",
            "Epoch 12/20\n",
            "820/820 [==============================] - 197s 240ms/step - loss: 5.3904 - mae: 1.8027 - val_loss: 10.2629 - val_mae: 2.4876\n",
            "Epoch 13/20\n",
            "820/820 [==============================] - 204s 249ms/step - loss: 5.2286 - mae: 1.7761 - val_loss: 10.4686 - val_mae: 2.5208\n",
            "Epoch 14/20\n",
            "820/820 [==============================] - 199s 242ms/step - loss: 5.0641 - mae: 1.7479 - val_loss: 10.0902 - val_mae: 2.4735\n",
            "Epoch 15/20\n",
            "820/820 [==============================] - 199s 242ms/step - loss: 4.9297 - mae: 1.7251 - val_loss: 10.4432 - val_mae: 2.5144\n",
            "Epoch 16/20\n",
            "820/820 [==============================] - 194s 236ms/step - loss: 4.8374 - mae: 1.7066 - val_loss: 10.6726 - val_mae: 2.5426\n",
            "Epoch 17/20\n",
            "820/820 [==============================] - 196s 239ms/step - loss: 4.7130 - mae: 1.6845 - val_loss: 10.4033 - val_mae: 2.5066\n",
            "Epoch 18/20\n",
            "820/820 [==============================] - 198s 240ms/step - loss: 4.5844 - mae: 1.6619 - val_loss: 10.5312 - val_mae: 2.5218\n",
            "Epoch 19/20\n",
            "820/820 [==============================] - 197s 240ms/step - loss: 4.5184 - mae: 1.6514 - val_loss: 10.4836 - val_mae: 2.5164\n",
            "Epoch 20/20\n",
            "820/820 [==============================] - 196s 238ms/step - loss: 4.4280 - mae: 1.6339 - val_loss: 10.9566 - val_mae: 2.5720\n",
            "WARNING:tensorflow:Layer lstm_3 will not use cuDNN kernels since it doesn't meet the criteria. It will use a generic GPU kernel as fallback when running on GPU.\n",
            "406/406 [==============================] - 48s 103ms/step - loss: 9.7669 - mae: 2.4594\n",
            "Test MAE: 2.46\n"
          ]
        }
      ]
    },
    {
      "cell_type": "markdown",
      "metadata": {
        "id": "1D6hjRb0S3A3"
      },
      "source": [
        "### 수정 모델 #4 (Test MAE: 2.45)"
      ]
    },
    {
      "cell_type": "markdown",
      "metadata": {
        "id": "8O3sjAOtTWXo"
      },
      "source": [
        "```python\n",
        "# 4\n",
        "# 층의 개수 및 유닛 개수 수정\n",
        "x = layers.LSTM(32, recurrent_dropout=0.5, unroll=True)(inputs)\n",
        "x = layers.LSTM(64, recurrent_dropout=0.5, unroll=True)(inputs)\n",
        "\n",
        "# 드랍아웃 비율 조정\n",
        "x = layers.Dropout(0.25)(x)\n",
        "\n",
        "# 훈련 횟수 20회\n",
        "history = model.fit(train_dataset,\n",
        "                    epochs=20,\n",
        "                    validation_data=val_dataset,\n",
        "                    callbacks=callbacks)\n",
        "```"
      ]
    },
    {
      "cell_type": "code",
      "metadata": {
        "colab": {
          "base_uri": "https://localhost:8080/"
        },
        "id": "ukU1uvogl6mb",
        "outputId": "b3cbd2da-aa11-48b2-ed1e-030a045ccb36"
      },
      "source": [
        "inputs = keras.Input(shape=(sequence_length, raw_data.shape[-1]))\n",
        "\n",
        "x = layers.LSTM(32, recurrent_dropout=0.5, unroll=True)(inputs)\n",
        "x = layers.LSTM(64, recurrent_dropout=0.5, unroll=True)(inputs)\n",
        "x = layers.Dropout(0.25)(x)\n",
        "outputs = layers.Dense(1)(x)\n",
        "model = keras.Model(inputs, outputs)\n",
        "\n",
        "callbacks = [\n",
        "    keras.callbacks.ModelCheckpoint(\"jena_lstm_dropout.keras\",\n",
        "                                    save_best_only=True)\n",
        "]\n",
        "\n",
        "model.compile(optimizer=\"rmsprop\", loss=\"mse\", metrics=[\"mae\"])\n",
        "\n",
        "history = model.fit(train_dataset,\n",
        "                    epochs=20,\n",
        "                    validation_data=val_dataset,\n",
        "                    callbacks=callbacks)\n",
        "\n",
        "model = keras.models.load_model(\"jena_lstm_dropout.keras\")\n",
        "print(f\"Test MAE: {model.evaluate(test_dataset)[1]:.2f}\")"
      ],
      "execution_count": null,
      "outputs": [
        {
          "name": "stdout",
          "output_type": "stream",
          "text": [
            "WARNING:tensorflow:Layer lstm_6 will not use cuDNN kernels since it doesn't meet the criteria. It will use a generic GPU kernel as fallback when running on GPU.\n",
            "WARNING:tensorflow:Layer lstm_7 will not use cuDNN kernels since it doesn't meet the criteria. It will use a generic GPU kernel as fallback when running on GPU.\n",
            "Epoch 1/20\n",
            "820/820 [==============================] - 241s 247ms/step - loss: 17.2851 - mae: 3.1106 - val_loss: 9.1252 - val_mae: 2.3537\n",
            "Epoch 2/20\n",
            "820/820 [==============================] - 199s 242ms/step - loss: 11.2485 - mae: 2.6169 - val_loss: 8.9193 - val_mae: 2.3179\n",
            "Epoch 3/20\n",
            "820/820 [==============================] - 200s 243ms/step - loss: 10.6177 - mae: 2.5438 - val_loss: 8.8827 - val_mae: 2.3118\n",
            "Epoch 4/20\n",
            "820/820 [==============================] - 199s 242ms/step - loss: 10.2006 - mae: 2.4920 - val_loss: 8.6916 - val_mae: 2.2851\n",
            "Epoch 5/20\n",
            "820/820 [==============================] - 199s 242ms/step - loss: 9.8782 - mae: 2.4539 - val_loss: 8.8614 - val_mae: 2.3075\n",
            "Epoch 6/20\n",
            "820/820 [==============================] - 198s 241ms/step - loss: 9.6093 - mae: 2.4190 - val_loss: 8.7432 - val_mae: 2.2894\n",
            "Epoch 7/20\n",
            "820/820 [==============================] - 201s 245ms/step - loss: 9.3435 - mae: 2.3849 - val_loss: 8.9472 - val_mae: 2.3166\n",
            "Epoch 8/20\n",
            "820/820 [==============================] - 200s 244ms/step - loss: 9.1464 - mae: 2.3577 - val_loss: 9.0350 - val_mae: 2.3287\n",
            "Epoch 9/20\n",
            "820/820 [==============================] - 199s 242ms/step - loss: 8.9675 - mae: 2.3345 - val_loss: 9.0464 - val_mae: 2.3306\n",
            "Epoch 10/20\n",
            "820/820 [==============================] - 196s 239ms/step - loss: 8.8258 - mae: 2.3125 - val_loss: 9.2677 - val_mae: 2.3574\n",
            "Epoch 11/20\n",
            "820/820 [==============================] - 199s 243ms/step - loss: 8.6645 - mae: 2.2956 - val_loss: 9.2524 - val_mae: 2.3500\n",
            "Epoch 12/20\n",
            "820/820 [==============================] - 204s 248ms/step - loss: 8.5368 - mae: 2.2788 - val_loss: 9.2938 - val_mae: 2.3568\n",
            "Epoch 13/20\n",
            "820/820 [==============================] - 201s 245ms/step - loss: 8.3996 - mae: 2.2608 - val_loss: 9.3392 - val_mae: 2.3611\n",
            "Epoch 14/20\n",
            "820/820 [==============================] - 203s 247ms/step - loss: 8.2706 - mae: 2.2438 - val_loss: 9.2343 - val_mae: 2.3458\n",
            "Epoch 15/20\n",
            "820/820 [==============================] - 205s 249ms/step - loss: 8.1639 - mae: 2.2297 - val_loss: 9.3278 - val_mae: 2.3525\n",
            "Epoch 16/20\n",
            "820/820 [==============================] - 205s 249ms/step - loss: 8.0697 - mae: 2.2158 - val_loss: 9.3530 - val_mae: 2.3555\n",
            "Epoch 17/20\n",
            "820/820 [==============================] - 206s 251ms/step - loss: 7.9768 - mae: 2.2033 - val_loss: 9.4562 - val_mae: 2.3738\n",
            "Epoch 18/20\n",
            "820/820 [==============================] - 205s 250ms/step - loss: 7.8918 - mae: 2.1925 - val_loss: 9.4010 - val_mae: 2.3735\n",
            "Epoch 19/20\n",
            "820/820 [==============================] - 205s 249ms/step - loss: 7.8316 - mae: 2.1844 - val_loss: 9.5434 - val_mae: 2.3791\n",
            "Epoch 20/20\n",
            "820/820 [==============================] - 206s 251ms/step - loss: 7.7514 - mae: 2.1745 - val_loss: 9.6412 - val_mae: 2.3918\n",
            "WARNING:tensorflow:Layer lstm_7 will not use cuDNN kernels since it doesn't meet the criteria. It will use a generic GPU kernel as fallback when running on GPU.\n",
            "406/406 [==============================] - 49s 107ms/step - loss: 9.7677 - mae: 2.4548\n",
            "Test MAE: 2.45\n"
          ]
        }
      ]
    },
    {
      "cell_type": "markdown",
      "metadata": {
        "id": "jUYYLII7S3wz"
      },
      "source": [
        "### 수정 모델 #5 (Test MAE: 2.48)"
      ]
    },
    {
      "cell_type": "markdown",
      "metadata": {
        "id": "56tTlZglToC9"
      },
      "source": [
        "```python\n",
        "# 5\n",
        "# 층의 유닛 개수 수정\n",
        "x = layers.LSTM(64, recurrent_dropout=0.25, unroll=True)(inputs)\n",
        "\n",
        "# 드랍아웃 비율 조정\n",
        "x = layers.Dropout(0.55)(x)\n",
        "\n",
        "# 밀집층 10 적용\n",
        "outputs = layers.Dense(10)(x)\n",
        "\n",
        "# 다른 옵티마이저 활용\n",
        "model.compile(optimizer=\"Adam\", loss=\"mse\", metrics=[\"mae\"])\n",
        "\n",
        "# 훈련 횟수 20회\n",
        "history = model.fit(train_dataset,\n",
        "                    epochs=20,\n",
        "                    validation_data=val_dataset,\n",
        "                    callbacks=callbacks)\n",
        "```"
      ]
    },
    {
      "cell_type": "code",
      "metadata": {
        "colab": {
          "base_uri": "https://localhost:8080/"
        },
        "id": "2eZvwhtNOddC",
        "outputId": "52938a4d-56f9-4d8e-a07d-b29d233fc987"
      },
      "source": [
        "inputs = keras.Input(shape=(sequence_length, raw_data.shape[-1]))\n",
        "\n",
        "x = layers.LSTM(64, recurrent_dropout=0.25, unroll=True)(inputs)\n",
        "x = layers.Dropout(0.55)(x)\n",
        "outputs = layers.Dense(10)(x)\n",
        "model = keras.Model(inputs, outputs)\n",
        "\n",
        "callbacks = [\n",
        "    keras.callbacks.ModelCheckpoint(\"jena_lstm_dropout.keras\",\n",
        "                                    save_best_only=True)\n",
        "]\n",
        "\n",
        "model.compile(optimizer=\"Adam\", loss=\"mse\", metrics=[\"mae\"])\n",
        "\n",
        "history = model.fit(train_dataset,\n",
        "                    epochs=20,\n",
        "                    validation_data=val_dataset,\n",
        "                    callbacks=callbacks)\n",
        "\n",
        "model = keras.models.load_model(\"jena_lstm_dropout.keras\")\n",
        "print(f\"Test MAE: {model.evaluate(test_dataset)[1]:.2f}\")"
      ],
      "execution_count": null,
      "outputs": [
        {
          "name": "stdout",
          "output_type": "stream",
          "text": [
            "WARNING:tensorflow:Layer lstm_1 will not use cuDNN kernels since it doesn't meet the criteria. It will use a generic GPU kernel as fallback when running on GPU.\n",
            "Epoch 1/20\n",
            "820/820 [==============================] - 208s 208ms/step - loss: 32.2119 - mae: 4.1567 - val_loss: 10.2547 - val_mae: 2.4728\n",
            "Epoch 2/20\n",
            "820/820 [==============================] - 166s 202ms/step - loss: 14.3648 - mae: 2.9523 - val_loss: 9.4498 - val_mae: 2.3931\n",
            "Epoch 3/20\n",
            "820/820 [==============================] - 164s 200ms/step - loss: 13.3509 - mae: 2.8453 - val_loss: 9.0502 - val_mae: 2.3428\n",
            "Epoch 4/20\n",
            "820/820 [==============================] - 163s 198ms/step - loss: 12.9355 - mae: 2.7964 - val_loss: 8.9083 - val_mae: 2.3170\n",
            "Epoch 5/20\n",
            "820/820 [==============================] - 162s 198ms/step - loss: 12.4427 - mae: 2.7454 - val_loss: 8.7995 - val_mae: 2.3010\n",
            "Epoch 6/20\n",
            "820/820 [==============================] - 166s 202ms/step - loss: 12.0045 - mae: 2.6939 - val_loss: 8.7202 - val_mae: 2.2895\n",
            "Epoch 7/20\n",
            "820/820 [==============================] - 166s 202ms/step - loss: 11.6539 - mae: 2.6512 - val_loss: 8.7853 - val_mae: 2.2981\n",
            "Epoch 8/20\n",
            "820/820 [==============================] - 163s 199ms/step - loss: 11.3316 - mae: 2.6141 - val_loss: 8.9213 - val_mae: 2.3258\n",
            "Epoch 9/20\n",
            "820/820 [==============================] - 168s 204ms/step - loss: 11.0519 - mae: 2.5785 - val_loss: 8.8607 - val_mae: 2.3152\n",
            "Epoch 10/20\n",
            "820/820 [==============================] - 162s 198ms/step - loss: 10.7727 - mae: 2.5457 - val_loss: 8.8003 - val_mae: 2.3060\n",
            "Epoch 11/20\n",
            "820/820 [==============================] - 165s 201ms/step - loss: 10.5791 - mae: 2.5176 - val_loss: 8.8656 - val_mae: 2.3193\n",
            "Epoch 12/20\n",
            "820/820 [==============================] - 164s 200ms/step - loss: 10.2436 - mae: 2.4812 - val_loss: 8.7794 - val_mae: 2.2996\n",
            "Epoch 13/20\n",
            "820/820 [==============================] - 164s 200ms/step - loss: 10.0868 - mae: 2.4620 - val_loss: 8.8434 - val_mae: 2.3104\n",
            "Epoch 14/20\n",
            "820/820 [==============================] - 164s 199ms/step - loss: 9.9121 - mae: 2.4366 - val_loss: 8.9777 - val_mae: 2.3294\n",
            "Epoch 15/20\n",
            "820/820 [==============================] - 165s 201ms/step - loss: 9.7997 - mae: 2.4238 - val_loss: 8.8339 - val_mae: 2.3109\n",
            "Epoch 16/20\n",
            "820/820 [==============================] - 165s 200ms/step - loss: 9.5923 - mae: 2.3969 - val_loss: 8.9243 - val_mae: 2.3255\n",
            "Epoch 17/20\n",
            "820/820 [==============================] - 163s 199ms/step - loss: 9.4925 - mae: 2.3872 - val_loss: 9.0137 - val_mae: 2.3361\n",
            "Epoch 18/20\n",
            "820/820 [==============================] - 164s 199ms/step - loss: 9.3218 - mae: 2.3650 - val_loss: 9.0165 - val_mae: 2.3375\n",
            "Epoch 19/20\n",
            "820/820 [==============================] - 167s 203ms/step - loss: 9.2202 - mae: 2.3533 - val_loss: 9.0183 - val_mae: 2.3292\n",
            "Epoch 20/20\n",
            "820/820 [==============================] - 166s 202ms/step - loss: 9.1506 - mae: 2.3421 - val_loss: 9.1405 - val_mae: 2.3489\n",
            "WARNING:tensorflow:Layer lstm_1 will not use cuDNN kernels since it doesn't meet the criteria. It will use a generic GPU kernel as fallback when running on GPU.\n",
            "406/406 [==============================] - 38s 80ms/step - loss: 9.9026 - mae: 2.4760\n",
            "Test MAE: 2.48\n"
          ]
        }
      ]
    },
    {
      "cell_type": "markdown",
      "metadata": {
        "id": "pZx4Vs3VS4dS"
      },
      "source": [
        "### 수정 모델 #6 (Test MAE: 2.43)"
      ]
    },
    {
      "cell_type": "markdown",
      "metadata": {
        "id": "i-2FV7m8UDQv"
      },
      "source": [
        "```python\n",
        "# 6 (재실행해서 2.46인데 2.43이었습니다.)\n",
        "# 층의 개수 및 유닛 개수 수정\n",
        "x = layers.LSTM(32, recurrent_dropout=0.5, unroll=True)(inputs)\n",
        "x = layers.LSTM(32, recurrent_dropout=0.5, unroll=True)(inputs)\n",
        "\n",
        "x = layers.LSTM(64, recurrent_dropout=0.5, unroll=True)(inputs)\n",
        "x = layers.LSTM(64, recurrent_dropout=0.5, unroll=True)(inputs)\n",
        "\n",
        "# 훈련 횟수 20회\n",
        "history = model.fit(train_dataset,\n",
        "                    epochs=20,\n",
        "                    validation_data=val_dataset,\n",
        "                    callbacks=callbacks)\n",
        "```"
      ]
    },
    {
      "cell_type": "code",
      "metadata": {
        "colab": {
          "base_uri": "https://localhost:8080/"
        },
        "id": "etvEM6nfhKgh",
        "outputId": "6c92c347-1509-4720-9ce8-5349badc6b74"
      },
      "source": [
        "inputs = keras.Input(shape=(sequence_length, raw_data.shape[-1]))\n",
        "\n",
        "x = layers.LSTM(32, recurrent_dropout=0.5, unroll=True)(inputs)\n",
        "x = layers.LSTM(32, recurrent_dropout=0.5, unroll=True)(inputs)\n",
        "x = layers.Dropout(0.25)(x)\n",
        "x = layers.LSTM(64, recurrent_dropout=0.5, unroll=True)(inputs)\n",
        "x = layers.LSTM(64, recurrent_dropout=0.5, unroll=True)(inputs)\n",
        "x = layers.Dropout(0.25)(x)\n",
        "outputs = layers.Dense(1)(x)\n",
        "model = keras.Model(inputs, outputs)\n",
        "\n",
        "callbacks = [\n",
        "    keras.callbacks.ModelCheckpoint(\"jena_lstm_dropout.keras\",\n",
        "                                    save_best_only=True)\n",
        "]\n",
        "\n",
        "model.compile(optimizer=\"rmsprop\", loss=\"mse\", metrics=[\"mae\"])\n",
        "\n",
        "history = model.fit(train_dataset,\n",
        "                    epochs=20,\n",
        "                    validation_data=val_dataset,\n",
        "                    callbacks=callbacks)\n",
        "\n",
        "model = keras.models.load_model(\"jena_lstm_dropout.keras\")\n",
        "print(f\"Test MAE: {model.evaluate(test_dataset)[1]:.2f}\")"
      ],
      "execution_count": null,
      "outputs": [
        {
          "output_type": "stream",
          "name": "stdout",
          "text": [
            "Epoch 1/20\n",
            "820/820 [==============================] - 210s 213ms/step - loss: 17.0060 - mae: 3.0861 - val_loss: 9.5989 - val_mae: 2.4239\n",
            "Epoch 2/20\n",
            "820/820 [==============================] - 170s 207ms/step - loss: 11.2641 - mae: 2.6191 - val_loss: 9.0438 - val_mae: 2.3317\n",
            "Epoch 3/20\n",
            "820/820 [==============================] - 169s 206ms/step - loss: 10.7238 - mae: 2.5551 - val_loss: 8.7653 - val_mae: 2.2955\n",
            "Epoch 4/20\n",
            "820/820 [==============================] - 171s 208ms/step - loss: 10.3537 - mae: 2.5097 - val_loss: 9.0087 - val_mae: 2.3198\n",
            "Epoch 5/20\n",
            "820/820 [==============================] - 171s 208ms/step - loss: 10.0270 - mae: 2.4715 - val_loss: 8.6738 - val_mae: 2.2723\n",
            "Epoch 6/20\n",
            "820/820 [==============================] - 171s 208ms/step - loss: 9.7874 - mae: 2.4412 - val_loss: 8.5969 - val_mae: 2.2676\n",
            "Epoch 7/20\n",
            "820/820 [==============================] - 172s 209ms/step - loss: 9.5036 - mae: 2.4066 - val_loss: 8.5763 - val_mae: 2.2662\n",
            "Epoch 8/20\n",
            "820/820 [==============================] - 172s 210ms/step - loss: 9.3058 - mae: 2.3805 - val_loss: 8.6813 - val_mae: 2.2865\n",
            "Epoch 9/20\n",
            "820/820 [==============================] - 173s 211ms/step - loss: 9.1353 - mae: 2.3588 - val_loss: 8.6783 - val_mae: 2.2869\n",
            "Epoch 10/20\n",
            "820/820 [==============================] - 170s 207ms/step - loss: 8.9254 - mae: 2.3284 - val_loss: 8.7211 - val_mae: 2.2907\n",
            "Epoch 11/20\n",
            "820/820 [==============================] - 171s 208ms/step - loss: 8.7838 - mae: 2.3100 - val_loss: 8.7457 - val_mae: 2.3002\n",
            "Epoch 12/20\n",
            "820/820 [==============================] - 170s 207ms/step - loss: 8.6160 - mae: 2.2863 - val_loss: 8.6984 - val_mae: 2.2839\n",
            "Epoch 13/20\n",
            "820/820 [==============================] - 169s 206ms/step - loss: 8.5207 - mae: 2.2750 - val_loss: 8.8380 - val_mae: 2.3109\n",
            "Epoch 14/20\n",
            "820/820 [==============================] - 171s 208ms/step - loss: 8.3773 - mae: 2.2553 - val_loss: 8.9636 - val_mae: 2.3218\n",
            "Epoch 15/20\n",
            "820/820 [==============================] - 171s 208ms/step - loss: 8.2549 - mae: 2.2400 - val_loss: 8.7248 - val_mae: 2.2935\n",
            "Epoch 16/20\n",
            "820/820 [==============================] - 169s 206ms/step - loss: 8.1779 - mae: 2.2286 - val_loss: 8.9070 - val_mae: 2.3238\n",
            "Epoch 17/20\n",
            "820/820 [==============================] - 172s 210ms/step - loss: 8.0591 - mae: 2.2118 - val_loss: 8.9392 - val_mae: 2.3232\n",
            "Epoch 18/20\n",
            "820/820 [==============================] - 170s 207ms/step - loss: 7.9705 - mae: 2.2013 - val_loss: 9.1248 - val_mae: 2.3552\n",
            "Epoch 19/20\n",
            "820/820 [==============================] - 169s 206ms/step - loss: 7.8830 - mae: 2.1913 - val_loss: 9.0130 - val_mae: 2.3330\n",
            "Epoch 20/20\n",
            "820/820 [==============================] - 170s 207ms/step - loss: 7.8004 - mae: 2.1764 - val_loss: 9.0903 - val_mae: 2.3457\n",
            "406/406 [==============================] - 39s 83ms/step - loss: 9.6748 - mae: 2.4566\n",
            "Test MAE: 2.46\n"
          ]
        }
      ]
    },
    {
      "cell_type": "markdown",
      "metadata": {
        "id": "PK4EHw4wUdyV"
      },
      "source": [
        "## 데이터 전처리 과정을 새로 거친 후 수정 모델 적용"
      ]
    },
    {
      "cell_type": "markdown",
      "metadata": {
        "id": "MXBTQG8URXhT"
      },
      "source": [
        "### 데이터 전처리(sequence_length = 360, sampling_rate = 3 설정)"
      ]
    },
    {
      "cell_type": "markdown",
      "metadata": {
        "id": "4tTKnuw8RXhc"
      },
      "source": [
        "**데이터 정규화**"
      ]
    },
    {
      "cell_type": "code",
      "metadata": {
        "id": "6QlTwPowRXhc"
      },
      "source": [
        "# 훈련셋의 평균\n",
        "mean = raw_data[:num_train_samples].mean(axis=0)\n",
        "raw_data -= mean\n",
        "\n",
        "# 훈련셋의 표준편차\n",
        "std = raw_data[:num_train_samples].std(axis=0)\n",
        "raw_data /= std"
      ],
      "execution_count": null,
      "outputs": []
    },
    {
      "cell_type": "markdown",
      "metadata": {
        "id": "nL4ehcMFRXhd"
      },
      "source": [
        "**15일 단위 시퀀스 데이터 준비**"
      ]
    },
    {
      "cell_type": "code",
      "metadata": {
        "id": "paZvbTWaRXhd"
      },
      "source": [
        "from tensorflow import keras\n",
        "\n",
        "# 30분에 하나의 데이터 선택\n",
        "sampling_rate = 3\n",
        "\n",
        "# 입력 데이터 시퀀스: 지난 15일치(360시간) 온도 데이터\n",
        "sequence_length = 360\n",
        "\n",
        "# 타깃 설정:24시간 이후의 온도. 지연(delay)을 6일치로 지정\n",
        "delay = sampling_rate * (sequence_length + 24 - 1)\n",
        "\n",
        "# 배치 크기\n",
        "batch_size = 256\n",
        "\n",
        "# 훈련셋\n",
        "train_dataset = keras.utils.timeseries_dataset_from_array(\n",
        "    data=raw_data[:-delay],\n",
        "    targets=temperature[delay:],\n",
        "    sampling_rate=sampling_rate,\n",
        "    sequence_length=sequence_length,\n",
        "    shuffle=True, # 생성된 시퀀스들의 순서 무작위화\n",
        "    batch_size=batch_size,\n",
        "    start_index=0,\n",
        "    end_index=num_train_samples)\n",
        "\n",
        "# 검증셋\n",
        "val_dataset = keras.utils.timeseries_dataset_from_array(\n",
        "    data=raw_data[:-delay],\n",
        "    targets=temperature[delay:],\n",
        "    sampling_rate=sampling_rate,\n",
        "    sequence_length=sequence_length,\n",
        "    shuffle=True,\n",
        "    batch_size=batch_size,\n",
        "    start_index=num_train_samples,\n",
        "    end_index=num_train_samples + num_val_samples)\n",
        "\n",
        "# 테스트셋\n",
        "test_dataset = keras.utils.timeseries_dataset_from_array(\n",
        "    data=raw_data[:-delay],\n",
        "    targets=temperature[delay:],\n",
        "    sampling_rate=sampling_rate,\n",
        "    sequence_length=sequence_length,\n",
        "    shuffle=True,\n",
        "    batch_size=batch_size,\n",
        "    start_index=num_train_samples + num_val_samples)"
      ],
      "execution_count": null,
      "outputs": []
    },
    {
      "cell_type": "code",
      "metadata": {
        "colab": {
          "base_uri": "https://localhost:8080/"
        },
        "id": "PPhIgDBLRXhe",
        "outputId": "e7c774bb-d25e-440a-b77c-96aa8849740b"
      },
      "source": [
        "for samples, targets in train_dataset:\n",
        "    print(\"샘플 모양:\", samples.shape)\n",
        "    print(\"타깃 모양:\", targets.shape)\n",
        "    break"
      ],
      "execution_count": null,
      "outputs": [
        {
          "output_type": "stream",
          "name": "stdout",
          "text": [
            "샘플 모양: (256, 360, 14)\n",
            "타깃 모양: (256,)\n"
          ]
        }
      ]
    },
    {
      "cell_type": "markdown",
      "metadata": {
        "id": "fwm8STm3RXhe"
      },
      "source": [
        "케라스 텐서플로 레이어 불러오기"
      ]
    },
    {
      "cell_type": "code",
      "metadata": {
        "id": "B3XHddGBRXhf"
      },
      "source": [
        "from tensorflow import keras\n",
        "from tensorflow.keras import layers"
      ],
      "execution_count": null,
      "outputs": []
    },
    {
      "cell_type": "markdown",
      "metadata": {
        "id": "qfGXKMUtUb1S"
      },
      "source": [
        "### 수정 모델 #7 (Test MAE: 2.09)"
      ]
    },
    {
      "cell_type": "markdown",
      "metadata": {
        "id": "RaPywwlBUb1b"
      },
      "source": [
        "```python\n",
        "# 7\n",
        "# 층의 개수 및 유닛 개수 수정\n",
        "x = layers.LSTM(32, recurrent_dropout=0.5, unroll=True)(inputs)\n",
        "x = layers.LSTM(32, recurrent_dropout=0.5, unroll=True)(inputs)\n",
        "\n",
        "x = layers.LSTM(64, recurrent_dropout=0.5, unroll=True)(inputs)\n",
        "x = layers.LSTM(64, recurrent_dropout=0.5, unroll=True)(inputs)\n",
        "\n",
        "# 훈련 횟수 20회\n",
        "history = model.fit(train_dataset,\n",
        "                    epochs=20,\n",
        "                    validation_data=val_dataset,\n",
        "                    callbacks=callbacks)\n",
        "```"
      ]
    },
    {
      "cell_type": "code",
      "metadata": {
        "colab": {
          "base_uri": "https://localhost:8080/"
        },
        "id": "SHC2ru-kUb1b",
        "outputId": "fc8d35ea-0293-4070-d882-7d858b7d7190"
      },
      "source": [
        "inputs = keras.Input(shape=(sequence_length, raw_data.shape[-1]))\n",
        "\n",
        "x = layers.LSTM(32, recurrent_dropout=0.5, unroll=True)(inputs)\n",
        "x = layers.LSTM(32, recurrent_dropout=0.5, unroll=True)(inputs)\n",
        "x = layers.Dropout(0.25)(x)\n",
        "x = layers.LSTM(64, recurrent_dropout=0.5, unroll=True)(inputs)\n",
        "x = layers.LSTM(64, recurrent_dropout=0.5, unroll=True)(inputs)\n",
        "x = layers.Dropout(0.25)(x)\n",
        "outputs = layers.Dense(1)(x)\n",
        "model = keras.Model(inputs, outputs)\n",
        "\n",
        "callbacks = [\n",
        "    keras.callbacks.ModelCheckpoint(\"jena_lstm_dropout.keras\",\n",
        "                                    save_best_only=True)\n",
        "]\n",
        "\n",
        "model.compile(optimizer=\"rmsprop\", loss=\"mse\", metrics=[\"mae\"])\n",
        "\n",
        "history = model.fit(train_dataset,\n",
        "                    epochs=20,\n",
        "                    validation_data=val_dataset,\n",
        "                    callbacks=callbacks)\n",
        "\n",
        "model = keras.models.load_model(\"jena_lstm_dropout.keras\")\n",
        "print(f\"Test MAE: {model.evaluate(test_dataset)[1]:.2f}\")"
      ],
      "execution_count": null,
      "outputs": [
        {
          "name": "stdout",
          "output_type": "stream",
          "text": [
            "Epoch 1/20\n",
            "817/817 [==============================] - 746s 713ms/step - loss: 17.9337 - mae: 3.1892 - val_loss: 8.6676 - val_mae: 2.3040\n",
            "Epoch 2/20\n",
            "817/817 [==============================] - 565s 691ms/step - loss: 10.1384 - mae: 2.4876 - val_loss: 8.0794 - val_mae: 2.2282\n",
            "Epoch 3/20\n",
            "817/817 [==============================] - 563s 689ms/step - loss: 9.0607 - mae: 2.3574 - val_loss: 7.1462 - val_mae: 2.0869\n",
            "Epoch 4/20\n",
            "817/817 [==============================] - 569s 696ms/step - loss: 8.4651 - mae: 2.2793 - val_loss: 7.4343 - val_mae: 2.1230\n",
            "Epoch 5/20\n",
            "817/817 [==============================] - 564s 690ms/step - loss: 8.1130 - mae: 2.2305 - val_loss: 7.1148 - val_mae: 2.0817\n",
            "Epoch 6/20\n",
            "817/817 [==============================] - 560s 685ms/step - loss: 7.8196 - mae: 2.1905 - val_loss: 6.8740 - val_mae: 2.0370\n",
            "Epoch 7/20\n",
            "817/817 [==============================] - 557s 682ms/step - loss: 7.6288 - mae: 2.1629 - val_loss: 6.6709 - val_mae: 2.0097\n",
            "Epoch 8/20\n",
            "817/817 [==============================] - 556s 681ms/step - loss: 7.4523 - mae: 2.1363 - val_loss: 6.5854 - val_mae: 2.0064\n",
            "Epoch 9/20\n",
            "817/817 [==============================] - 562s 687ms/step - loss: 7.3240 - mae: 2.1178 - val_loss: 6.6353 - val_mae: 2.0168\n",
            "Epoch 10/20\n",
            "817/817 [==============================] - 563s 689ms/step - loss: 7.1919 - mae: 2.0985 - val_loss: 6.7715 - val_mae: 2.0410\n",
            "Epoch 11/20\n",
            "817/817 [==============================] - 558s 683ms/step - loss: 7.0681 - mae: 2.0795 - val_loss: 6.5615 - val_mae: 2.0062\n",
            "Epoch 12/20\n",
            "817/817 [==============================] - 562s 687ms/step - loss: 6.9935 - mae: 2.0698 - val_loss: 6.6253 - val_mae: 2.0120\n",
            "Epoch 13/20\n",
            "817/817 [==============================] - 559s 684ms/step - loss: 6.8711 - mae: 2.0501 - val_loss: 6.7202 - val_mae: 2.0260\n",
            "Epoch 14/20\n",
            "817/817 [==============================] - 558s 683ms/step - loss: 6.7844 - mae: 2.0372 - val_loss: 6.7630 - val_mae: 2.0368\n",
            "Epoch 15/20\n",
            "817/817 [==============================] - 556s 681ms/step - loss: 6.7040 - mae: 2.0276 - val_loss: 6.9745 - val_mae: 2.0681\n",
            "Epoch 16/20\n",
            "817/817 [==============================] - 557s 681ms/step - loss: 6.6798 - mae: 2.0215 - val_loss: 6.5023 - val_mae: 2.0051\n",
            "Epoch 17/20\n",
            "817/817 [==============================] - 556s 680ms/step - loss: 6.5924 - mae: 2.0067 - val_loss: 6.7957 - val_mae: 2.0442\n",
            "Epoch 18/20\n",
            "817/817 [==============================] - 556s 680ms/step - loss: 6.4995 - mae: 1.9970 - val_loss: 6.6300 - val_mae: 2.0160\n",
            "Epoch 19/20\n",
            "817/817 [==============================] - 556s 680ms/step - loss: 6.5177 - mae: 1.9950 - val_loss: 6.8443 - val_mae: 2.0476\n",
            "Epoch 20/20\n",
            "817/817 [==============================] - 556s 680ms/step - loss: 6.4372 - mae: 1.9854 - val_loss: 6.5460 - val_mae: 2.0010\n",
            "402/402 [==============================] - 114s 227ms/step - loss: 7.1619 - mae: 2.0873\n",
            "Test MAE: 2.09\n"
          ]
        }
      ]
    },
    {
      "cell_type": "markdown",
      "metadata": {
        "id": "E96y47IvaQFj"
      },
      "source": [
        "### 수정 모델 #8 (Test MAE: 2.09)"
      ]
    },
    {
      "cell_type": "markdown",
      "metadata": {
        "id": "8i6K4z-ZaQFk"
      },
      "source": [
        "```python\n",
        "# 6\n",
        "# 층의 개수 및 유닛 개수 수정\n",
        "x = layers.LSTM(32, recurrent_dropout=0.1, unroll=True)(inputs)\n",
        "x = layers.LSTM(32, recurrent_dropout=0.1, unroll=True)(inputs)\n",
        "\n",
        "x = layers.LSTM(64, recurrent_dropout=0.1, unroll=True)(inputs)\n",
        "x = layers.LSTM(64, recurrent_dropout=0.1, unroll=True)(inputs)\n",
        "\n",
        "# 드랍아웃 비율 조정\n",
        "x = layers.Dropout(0.1)(x)\n",
        "\n",
        "# 훈련 횟수 20회\n",
        "history = model.fit(train_dataset,\n",
        "                    epochs=20,\n",
        "                    validation_data=val_dataset,\n",
        "                    callbacks=callbacks)\n",
        "```"
      ]
    },
    {
      "cell_type": "code",
      "metadata": {
        "id": "7afVYHofaQFl",
        "colab": {
          "base_uri": "https://localhost:8080/"
        },
        "outputId": "876e8090-5a9e-4de7-e851-bf4a0141ab4d"
      },
      "source": [
        "inputs = keras.Input(shape=(sequence_length, raw_data.shape[-1]))\n",
        "\n",
        "x = layers.LSTM(32, recurrent_dropout=0.1, unroll=True)(inputs)\n",
        "x = layers.Dropout(0.1)(x)\n",
        "outputs = layers.Dense(1)(x)\n",
        "model = keras.Model(inputs, outputs)\n",
        "\n",
        "callbacks = [\n",
        "    keras.callbacks.ModelCheckpoint(\"jena_lstm_dropout.keras\",\n",
        "                                    save_best_only=True)\n",
        "]\n",
        "\n",
        "model.compile(optimizer=\"rmsprop\", loss=\"mse\", metrics=[\"mae\"])\n",
        "\n",
        "history = model.fit(train_dataset,\n",
        "                    epochs=20,\n",
        "                    validation_data=val_dataset,\n",
        "                    callbacks=callbacks)\n",
        "\n",
        "model = keras.models.load_model(\"jena_lstm_dropout.keras\")\n",
        "print(f\"Test MAE: {model.evaluate(test_dataset)[1]:.2f}\")"
      ],
      "execution_count": null,
      "outputs": [
        {
          "output_type": "stream",
          "name": "stdout",
          "text": [
            "Epoch 1/20\n",
            "817/817 [==============================] - 568s 413ms/step - loss: 25.5005 - mae: 3.6443 - val_loss: 7.9981 - val_mae: 2.2072\n",
            "Epoch 2/20\n",
            "817/817 [==============================] - 318s 388ms/step - loss: 8.9044 - mae: 2.3389 - val_loss: 6.9073 - val_mae: 2.0600\n",
            "Epoch 3/20\n",
            "817/817 [==============================] - 315s 385ms/step - loss: 7.8028 - mae: 2.1906 - val_loss: 6.6270 - val_mae: 2.0248\n",
            "Epoch 4/20\n",
            "817/817 [==============================] - 322s 394ms/step - loss: 7.2851 - mae: 2.1178 - val_loss: 6.4709 - val_mae: 2.0120\n",
            "Epoch 5/20\n",
            "817/817 [==============================] - 315s 386ms/step - loss: 6.9185 - mae: 2.0610 - val_loss: 6.3252 - val_mae: 1.9807\n",
            "Epoch 6/20\n",
            "817/817 [==============================] - 316s 386ms/step - loss: 6.6560 - mae: 2.0223 - val_loss: 6.5390 - val_mae: 2.0113\n",
            "Epoch 7/20\n",
            "817/817 [==============================] - 319s 390ms/step - loss: 6.4804 - mae: 1.9932 - val_loss: 6.4443 - val_mae: 2.0059\n",
            "Epoch 8/20\n",
            "817/817 [==============================] - 317s 388ms/step - loss: 6.3042 - mae: 1.9675 - val_loss: 6.5548 - val_mae: 2.0247\n",
            "Epoch 9/20\n",
            "817/817 [==============================] - 318s 389ms/step - loss: 6.2220 - mae: 1.9499 - val_loss: 6.7009 - val_mae: 2.0445\n",
            "Epoch 10/20\n",
            "817/817 [==============================] - 319s 390ms/step - loss: 6.0861 - mae: 1.9288 - val_loss: 6.7498 - val_mae: 2.0512\n",
            "Epoch 11/20\n",
            "817/817 [==============================] - 318s 389ms/step - loss: 6.0113 - mae: 1.9197 - val_loss: 6.4123 - val_mae: 1.9965\n",
            "Epoch 12/20\n",
            "817/817 [==============================] - 318s 389ms/step - loss: 5.9299 - mae: 1.9022 - val_loss: 6.7031 - val_mae: 2.0399\n",
            "Epoch 13/20\n",
            "817/817 [==============================] - 322s 393ms/step - loss: 5.8541 - mae: 1.8901 - val_loss: 6.4029 - val_mae: 1.9974\n",
            "Epoch 14/20\n",
            "817/817 [==============================] - 321s 393ms/step - loss: 5.7967 - mae: 1.8800 - val_loss: 6.3102 - val_mae: 1.9782\n",
            "Epoch 15/20\n",
            "817/817 [==============================] - 319s 390ms/step - loss: 5.7297 - mae: 1.8676 - val_loss: 6.2770 - val_mae: 1.9751\n",
            "Epoch 16/20\n",
            "817/817 [==============================] - 318s 389ms/step - loss: 5.6823 - mae: 1.8625 - val_loss: 6.4833 - val_mae: 2.0052\n",
            "Epoch 17/20\n",
            "817/817 [==============================] - 318s 389ms/step - loss: 5.6141 - mae: 1.8502 - val_loss: 6.4619 - val_mae: 1.9956\n",
            "Epoch 18/20\n",
            "817/817 [==============================] - 318s 389ms/step - loss: 5.5771 - mae: 1.8440 - val_loss: 6.4667 - val_mae: 1.9997\n",
            "Epoch 19/20\n",
            "817/817 [==============================] - 316s 387ms/step - loss: 5.5101 - mae: 1.8343 - val_loss: 6.5422 - val_mae: 2.0149\n",
            "Epoch 20/20\n",
            "817/817 [==============================] - 317s 388ms/step - loss: 5.4784 - mae: 1.8305 - val_loss: 6.5173 - val_mae: 2.0037\n",
            "402/402 [==============================] - 84s 135ms/step - loss: 7.1764 - mae: 2.0913\n",
            "Test MAE: 2.09\n"
          ]
        }
      ]
    }
  ]
}