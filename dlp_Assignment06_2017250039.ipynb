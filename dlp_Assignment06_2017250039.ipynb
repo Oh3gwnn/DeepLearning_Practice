{
  "nbformat": 4,
  "nbformat_minor": 0,
  "metadata": {
    "accelerator": "GPU",
    "colab": {
      "provenance": []
    },
    "kernelspec": {
      "display_name": "Python 3",
      "language": "python",
      "name": "python3"
    },
    "language_info": {
      "codemirror_mode": {
        "name": "ipython",
        "version": 3
      },
      "file_extension": ".py",
      "mimetype": "text/x-python",
      "name": "python",
      "nbconvert_exporter": "python",
      "pygments_lexer": "ipython3",
      "version": "3.8.8"
    }
  },
  "cells": [
    {
      "cell_type": "markdown",
      "metadata": {
        "id": "WxHFN2Imas7c"
      },
      "source": [
        "# 연습문제: 합성곱 신경망 - MNIST"
      ]
    },
    {
      "cell_type": "markdown",
      "metadata": {
        "id": "4x1PPPOFas7i"
      },
      "source": [
        "## 문제 1\n",
        "\n",
        "MNIST 데이터셋을 이용하여 최고의 성능을 발휘하는 합성곱신경망 모델(CNN)을 구현하라."
      ]
    },
    {
      "cell_type": "code",
      "metadata": {
        "id": "Jx4BIVGfP8Sp"
      },
      "source": [
        "from keras.layers.convolutional import Conv2D, MaxPooling2D\n",
        "from keras.layers import Dense, Dropout, Flatten\n",
        "from keras.models import Sequential\n",
        "import matplotlib.pyplot as plt\n",
        "import numpy as np\n",
        "import keras\n",
        "import sys"
      ],
      "execution_count": null,
      "outputs": []
    },
    {
      "cell_type": "markdown",
      "metadata": {
        "id": "I4nbEW1zysHp"
      },
      "source": [
        "### **convnet 모델 구성**\n",
        "\n",
        "   1. **conv2d (Conv2D)** : 32개의 필터 커널 Convolutional Layer 2개\n",
        "   2. **max_pooling2d (MaxPooling2D)** : `pool_size = (2,2)`, `stride = (1,1)`\n",
        "   3. **conv2d (Conv2D)** : 64개의 필터 커널 Convolutional Layer 2개\n",
        "   4. **max_pooling2d (MaxPooling2D)** : `pool_size = (2,2)`, `stride = (1,1)`\n",
        "   5. **dropout (Dropout)** : 첫 번째 `Dropout` 층 0.25 설정\n",
        "   6. **dense (Dense)** : `ReLU` 층 1024 설정, MNIST 데이터 평가를 위해 데이터 형식 변경\n",
        "   7. **dropout (Dropout)** : 두 번째 `Dropout` 층 0.5 설정\n",
        "   8. **dense (Dense)** : `Softmax` 층 10 설정, MNIST 데이터 평가를 위해 다중 클래스 분류 함수 `Softmax` 함수 설정"
      ]
    },
    {
      "cell_type": "markdown",
      "metadata": {
        "id": "VSSZBW3hysHs"
      },
      "source": [
        "**모델 구성 요약**"
      ]
    },
    {
      "cell_type": "code",
      "metadata": {
        "colab": {
          "base_uri": "https://localhost:8080/"
        },
        "id": "EmM5MSgTQxqV",
        "outputId": "a8926299-8c75-40ab-a909-a1789b333c83"
      },
      "source": [
        "model_cnn = Sequential()\n",
        "model_cnn.add(Conv2D(32, kernel_size=(5, 5), strides=(1, 1), padding='same',\n",
        "                 activation='relu',\n",
        "                 input_shape=(28, 28, 1)))\n",
        "model_cnn.add(Conv2D(32, kernel_size=(5, 5), strides=(1, 1), padding='same',\n",
        "                 activation='relu',\n",
        "                 input_shape=(28, 28, 1)))\n",
        "model_cnn.add(MaxPooling2D(pool_size=(2, 2), strides=(1, 1)))\n",
        "model_cnn.add(Conv2D(64, (2, 2), activation='relu', padding='same'))\n",
        "model_cnn.add(Conv2D(64, (2, 2), activation='relu', padding='same'))\n",
        "model_cnn.add(MaxPooling2D(pool_size=(2, 2)))\n",
        "model_cnn.add(Dropout(0.25))\n",
        "model_cnn.add(Flatten())\n",
        "model_cnn.add(Dense(1024, activation='relu'))\n",
        "model_cnn.add(Dropout(0.5))\n",
        "model_cnn.add(Dense(10, activation='softmax'))\n",
        "model_cnn.summary()"
      ],
      "execution_count": null,
      "outputs": [
        {
          "output_type": "stream",
          "name": "stdout",
          "text": [
            "Model: \"sequential\"\n",
            "_________________________________________________________________\n",
            " Layer (type)                Output Shape              Param #   \n",
            "=================================================================\n",
            " conv2d (Conv2D)             (None, 28, 28, 32)        832       \n",
            "                                                                 \n",
            " conv2d_1 (Conv2D)           (None, 28, 28, 32)        25632     \n",
            "                                                                 \n",
            " max_pooling2d (MaxPooling2D  (None, 27, 27, 32)       0         \n",
            " )                                                               \n",
            "                                                                 \n",
            " conv2d_2 (Conv2D)           (None, 27, 27, 64)        8256      \n",
            "                                                                 \n",
            " conv2d_3 (Conv2D)           (None, 27, 27, 64)        16448     \n",
            "                                                                 \n",
            " max_pooling2d_1 (MaxPooling  (None, 13, 13, 64)       0         \n",
            " 2D)                                                             \n",
            "                                                                 \n",
            " dropout (Dropout)           (None, 13, 13, 64)        0         \n",
            "                                                                 \n",
            " flatten (Flatten)           (None, 10816)             0         \n",
            "                                                                 \n",
            " dense (Dense)               (None, 1024)              11076608  \n",
            "                                                                 \n",
            " dropout_1 (Dropout)         (None, 1024)              0         \n",
            "                                                                 \n",
            " dense_1 (Dense)             (None, 10)                10250     \n",
            "                                                                 \n",
            "=================================================================\n",
            "Total params: 11,138,026\n",
            "Trainable params: 11,138,026\n",
            "Non-trainable params: 0\n",
            "_________________________________________________________________\n"
          ]
        }
      ]
    },
    {
      "cell_type": "markdown",
      "metadata": {
        "id": "eGdgA_xTysHu"
      },
      "source": [
        "**MNIST 이미지 분류 훈련**\n",
        "\n",
        "설정한 모델로 이미지 분류 훈련 진행\n",
        "\n",
        "   - **데이터 세트 :** 검증:훈련:테스트 = 10000:50000:10000\n",
        "   - **배치 사이즈 :** 64\n",
        "   - **훈련 횟수 :** 10 회\n",
        "   - **optimizer :** `rmsprop`에서 `adam`으로 변경"
      ]
    },
    {
      "cell_type": "code",
      "metadata": {
        "id": "WnqfoP5qysHu",
        "colab": {
          "base_uri": "https://localhost:8080/"
        },
        "outputId": "0ccd9b05-2b5b-4c46-9cea-622c2a422169"
      },
      "source": [
        "train_images, val_images = images[10000:], images[:10000]\n",
        "train_labels, val_labels = labels[10000:], labels[:10000]"
      ],
      "execution_count": null,
      "outputs": [
        {
          "output_type": "stream",
          "name": "stdout",
          "text": [
            "Downloading data from https://storage.googleapis.com/tensorflow/tf-keras-datasets/mnist.npz\n",
            "11493376/11490434 [==============================] - 0s 0us/step\n",
            "11501568/11490434 [==============================] - 0s 0us/step\n"
          ]
        }
      ]
    },
    {
      "cell_type": "code",
      "metadata": {
        "colab": {
          "base_uri": "https://localhost:8080/"
        },
        "id": "KPvGuD2WsU37",
        "outputId": "931e5bdb-77a8-4515-edd6-9d57e58232fb"
      },
      "source": [
        "print('train_images shape:', train_images.shape)\n",
        "print('test_images shape:', test_images.shape)\n",
        "print('val_images shape:', test_images.shape)"
      ],
      "execution_count": null,
      "outputs": [
        {
          "output_type": "stream",
          "name": "stdout",
          "text": [
            "train_images shape: (50000, 28, 28, 1)\n",
            "test_images shape: (10000, 28, 28, 1)\n",
            "val_images shape: (10000, 28, 28, 1)\n"
          ]
        }
      ]
    },
    {
      "cell_type": "code",
      "metadata": {
        "id": "f_BiLheTijaE",
        "colab": {
          "base_uri": "https://localhost:8080/"
        },
        "outputId": "7103a36d-a9cf-44d1-81f7-710d99580f3e"
      },
      "source": [
        "model_cnn.compile(optimizer=\"adam\",\n",
        "    loss=\"sparse_categorical_crossentropy\",\n",
        "    metrics=[\"accuracy\"])\n",
        "\n",
        "model_cnn.fit(train_images, train_labels,\n",
        "                 batch_size=64,\n",
        "                 epochs=10,\n",
        "                 verbose=1, \n",
        "                 validation_data=(val_images, val_labels))"
      ],
      "execution_count": null,
      "outputs": [
        {
          "output_type": "stream",
          "name": "stdout",
          "text": [
            "Epoch 1/10\n",
            "782/782 [==============================] - 52s 27ms/step - loss: 0.1362 - accuracy: 0.9581 - val_loss: 0.0528 - val_accuracy: 0.9843\n",
            "Epoch 2/10\n",
            "782/782 [==============================] - 21s 27ms/step - loss: 0.0512 - accuracy: 0.9844 - val_loss: 0.0446 - val_accuracy: 0.9861\n",
            "Epoch 3/10\n",
            "782/782 [==============================] - 21s 27ms/step - loss: 0.0390 - accuracy: 0.9878 - val_loss: 0.0447 - val_accuracy: 0.9862\n",
            "Epoch 4/10\n",
            "782/782 [==============================] - 21s 27ms/step - loss: 0.0326 - accuracy: 0.9898 - val_loss: 0.0344 - val_accuracy: 0.9896\n",
            "Epoch 5/10\n",
            "782/782 [==============================] - 21s 26ms/step - loss: 0.0254 - accuracy: 0.9920 - val_loss: 0.0401 - val_accuracy: 0.9898\n",
            "Epoch 6/10\n",
            "782/782 [==============================] - 21s 26ms/step - loss: 0.0239 - accuracy: 0.9925 - val_loss: 0.0346 - val_accuracy: 0.9910\n",
            "Epoch 7/10\n",
            "782/782 [==============================] - 21s 26ms/step - loss: 0.0190 - accuracy: 0.9939 - val_loss: 0.0368 - val_accuracy: 0.9888\n",
            "Epoch 8/10\n",
            "782/782 [==============================] - 21s 27ms/step - loss: 0.0164 - accuracy: 0.9949 - val_loss: 0.0312 - val_accuracy: 0.9920\n",
            "Epoch 9/10\n",
            "782/782 [==============================] - 21s 26ms/step - loss: 0.0156 - accuracy: 0.9950 - val_loss: 0.0333 - val_accuracy: 0.9912\n",
            "Epoch 10/10\n",
            "782/782 [==============================] - 21s 26ms/step - loss: 0.0128 - accuracy: 0.9958 - val_loss: 0.0423 - val_accuracy: 0.9915\n"
          ]
        },
        {
          "output_type": "execute_result",
          "data": {
            "text/plain": [
              "<keras.callbacks.History at 0x7f23a9228190>"
            ]
          },
          "metadata": {},
          "execution_count": 5
        }
      ]
    },
    {
      "cell_type": "markdown",
      "metadata": {
        "id": "JFsX1OF3ysHv"
      },
      "source": [
        "**훈련된 convnet 평가**\n",
        "\n",
        "테스트셋에 대한 성능이 7 - 8장에서 보여준 모델보다 좋은 평가를 보여준다.\n",
        "\n",
        "약 20번 정도 훈련을 초기화하면서 시도해봤는데, 테스트 셋에 대해 `accuracy` = **99.10 ~ 99.45** 정도의 정확도를 보여준다."
      ]
    },
    {
      "cell_type": "code",
      "metadata": {
        "id": "e3nT4eB78Aul",
        "colab": {
          "base_uri": "https://localhost:8080/"
        },
        "outputId": "9689d6f8-8ef4-47dc-8305-7798ea5c40c4"
      },
      "source": [
        "test_metrics = model_cnn.evaluate(test_images, test_labels)\n",
        "predictions = model_cnn.predict(test_images)"
      ],
      "execution_count": null,
      "outputs": [
        {
          "output_type": "stream",
          "name": "stdout",
          "text": [
            "313/313 [==============================] - 2s 6ms/step - loss: 0.0214 - accuracy: 0.9941\n"
          ]
        }
      ]
    },
    {
      "cell_type": "code",
      "metadata": {
        "id": "dPqHalYlysHw",
        "colab": {
          "base_uri": "https://localhost:8080/"
        },
        "outputId": "6e72bf9b-0527-4dd6-c3e2-4f1af844add3"
      },
      "source": [
        "test_loss, test_acc = model_cnn.evaluate(test_images, test_labels)\n",
        "print(f\"Test accuracy: {test_acc:.3f}\")"
      ],
      "execution_count": null,
      "outputs": [
        {
          "output_type": "stream",
          "name": "stdout",
          "text": [
            "313/313 [==============================] - 2s 6ms/step - loss: 0.0214 - accuracy: 0.9941\n",
            "Test accuracy: 0.994\n"
          ]
        }
      ]
    }
  ]
}