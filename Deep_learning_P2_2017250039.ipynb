{
  "nbformat": 4,
  "nbformat_minor": 0,
  "metadata": {
    "colab": {
      "provenance": []
    },
    "kernelspec": {
      "display_name": "Python 3",
      "language": "python",
      "name": "python3"
    },
    "language_info": {
      "codemirror_mode": {
        "name": "ipython",
        "version": 3
      },
      "file_extension": ".py",
      "mimetype": "text/x-python",
      "name": "python",
      "nbconvert_exporter": "python",
      "pygments_lexer": "ipython3",
      "version": "3.8.5"
    }
  },
  "cells": [
    {
      "cell_type": "markdown",
      "metadata": {
        "id": "yNLTh34atkwt"
      },
      "source": [
        "# **케라스와 텐서플로우(미니배치 경사하강법을 이용한 학습)**"
      ]
    },
    {
      "cell_type": "markdown",
      "metadata": {
        "id": "wXxp3kA7iOvL"
      },
      "source": [
        "### **1. 저수준 선형 분류 신경망 구현**"
      ]
    },
    {
      "cell_type": "markdown",
      "metadata": {
        "id": "epvW2y-qb7ci"
      },
      "source": [
        "__도전 과제__: \n",
        "\n",
        "1. 위 코드는 배치 경사하강법을 사용한다. 이제 미니 배치 경사하강법이 작동하도록 하라. \n",
        "    배치 크기는 100으로 한다.\n",
        "1. `metrics`로 예측 정확도를 훈련 과정 중에 측정하는 기능을 추가하라. \n",
        "1. 세 개의 층을 사용하는 모델을 구현하라. "
      ]
    },
    {
      "cell_type": "markdown",
      "metadata": {
        "id": "t5akEPUviOvM"
      },
      "source": [
        "순수 텐서플로우 API만을 이용하여 두 개의 층을 갖는 선형 분류 신경망을 구현하라."
      ]
    },
    {
      "cell_type": "code",
      "metadata": {
        "id": "TJHKQnZ-iOvM"
      },
      "source": [
        "import tensorflow as tf\n",
        "import numpy as np"
      ],
      "execution_count": null,
      "outputs": []
    },
    {
      "cell_type": "markdown",
      "metadata": {
        "id": "TDKbZWcYiOvM"
      },
      "source": [
        "#### **1.1. 데이터셋 생성**"
      ]
    },
    {
      "cell_type": "markdown",
      "metadata": {
        "id": "IzBMV1EtiOvM"
      },
      "source": [
        "- `np.random.multivariate_normal()`\n",
        "    - 다변량 정규분포를 따르는 데이터 생성\n",
        "    - 평균값과 공분산 지정 필요\n",
        "- 음성 데이터셋\n",
        "    - 샘플 수: 1,000\n",
        "    - 평균값: `[0, 3]`\n",
        "    - 공분산: `[[1, 0.5],[0.5, 1]]`\n",
        "- 양성 데이터셋\n",
        "    - 샘플 수: 1,000\n",
        "    - 평균값: `[3, 0]`\n",
        "    - 공분산: `[[1, 0.5],[0.5, 1]]`"
      ]
    },
    {
      "cell_type": "code",
      "metadata": {
        "id": "MbV6ltFniOvN"
      },
      "source": [
        "num_samples_per_class = 1000\n",
        "\n",
        "# 음성 데이터셋\n",
        "negative_samples = np.random.multivariate_normal(\n",
        "    mean=[0, 3], cov=[[1, 0.5],[0.5, 1]], size=num_samples_per_class)\n",
        "\n",
        "# 양성 데이터셋\n",
        "positive_samples = np.random.multivariate_normal(\n",
        "    mean=[3, 0], cov=[[1, 0.5],[0.5, 1]], size=num_samples_per_class)"
      ],
      "execution_count": null,
      "outputs": []
    },
    {
      "cell_type": "markdown",
      "metadata": {
        "id": "-wVchjnQiOvN"
      },
      "source": [
        "두 개의 `(1000, 2)` 모양의 양성, 음성 데이터셋을 하나의 `(2000, 2)` 모양의 데이터셋으로 합치면서\n",
        "동시에 자료형을 `np.float32`로 지정한다. \n",
        "자료형을 지정하지 않으면 `np.float64`로 지정되어 보다 많은 메모리와 실행시간을 요구한다."
      ]
    },
    {
      "cell_type": "code",
      "metadata": {
        "id": "ukL5mZZhiOvN"
      },
      "source": [
        "inputs = np.vstack((negative_samples, positive_samples)).astype(np.float32)"
      ],
      "execution_count": null,
      "outputs": []
    },
    {
      "cell_type": "markdown",
      "metadata": {
        "id": "vfd0c8f5iOvN"
      },
      "source": [
        "음성 샘플의 타깃은 0, 양성 샘플의 타깃은 1로 지정한다."
      ]
    },
    {
      "cell_type": "code",
      "metadata": {
        "id": "ogLZmu0fiOvN"
      },
      "source": [
        "targets = np.vstack((np.zeros((num_samples_per_class, 1), dtype=\"float32\"),\n",
        "                     np.ones((num_samples_per_class, 1), dtype=\"float32\")))"
      ],
      "execution_count": null,
      "outputs": []
    },
    {
      "cell_type": "markdown",
      "metadata": {
        "id": "wJfxyaUSiOvN"
      },
      "source": [
        "양성, 음성 샘플을 색깔로 구분하면 다음과 같다.\n",
        "\n",
        "- `inputs[:, 0]`: x 좌표\n",
        "- `inputs[:, 1]`: x 좌표\n",
        "- `c=targets[:, 0]`: 0 또는 1에 따른 색상 지정"
      ]
    },
    {
      "cell_type": "code",
      "metadata": {
        "colab": {
          "base_uri": "https://localhost:8080/",
          "height": 265
        },
        "id": "qtEGo6WsiOvO",
        "outputId": "ca94955c-b0da-44da-ed15-175b4061efaa"
      },
      "source": [
        "import matplotlib.pyplot as plt\n",
        "\n",
        "plt.scatter(inputs[:, 0], inputs[:, 1], c=targets[:, 0])\n",
        "plt.show()"
      ],
      "execution_count": null,
      "outputs": [
        {
          "output_type": "display_data",
          "data": {
            "image/png": "[encoded data removed]",
            "text/plain": [
              "<Figure size 432x288 with 1 Axes>"
            ]
          },
          "metadata": {
            "needs_background": "light"
          }
        }
      ]
    },
    {
      "cell_type": "markdown",
      "metadata": {
        "id": "S_TTfkyHstTb"
      },
      "source": [
        "### **1.5. 들어가기 앞서**"
      ]
    },
    {
      "cell_type": "markdown",
      "metadata": {
        "id": "lrPf8VjSj8jS"
      },
      "source": [
        "---\n",
        "\n",
        "**배치 경사 하강법(Batch Gradient Descent)**은 가장 기본적인 경사 하강법이다.\n",
        "\n",
        "```\n",
        "model.fit(X_train, y_train, batch_size=len(train_X))\n",
        "```\n",
        "\n",
        "**미니 배치 경사 하강법(Mini-Batch Gradient Descent)**\n",
        "\n",
        "전체 데이터도 아니고, 1개의 데이터도 아니고 정해진 양에 대해서만 계산하여 매개 변수의 값을 조정하는 경사 하강법을 미니 배치 경사 하강법이라고 한다.\n",
        "\n",
        "미니 배치 경사 하강법은 전체 데이터를 계산하는 것보다 빠르며, SGD(확률적)보다 안정적이라는 장점이 있다.\n",
        "```\n",
        "model.fit(X_train, y_train, batch_size=32) #32를 배치 크기로 하였을 경우\n",
        "```\n",
        "\n",
        "물론 머신러닝을 공부할 때 학습한 내용이지만, 기억이 잘 안나서 다시 보았을 때 생각날 수 있을 수준으로 내용을 가져왔다."
      ]
    },
    {
      "cell_type": "markdown",
      "metadata": {
        "id": "Gv_dvKSThMZS"
      },
      "source": [
        "우선, 위 내용은 배치 경사 하강법과 차이점을 알기 위해서 설명을 제외하고 가져온 내용이다.\n",
        "\n",
        "데이터셋 생성까지 마친 지금 단계에서 파이썬 라이브러리인 **케라스(Keras)**를 사용하여 미니배치 경사하강법을 활용해보자.\n",
        "\n",
        "---"
      ]
    },
    {
      "cell_type": "markdown",
      "metadata": {
        "id": "3zmWxQ5ZOZE9"
      },
      "source": [
        "### **2. `Dense` 클래스 구현 (layer 생성)**"
      ]
    },
    {
      "cell_type": "markdown",
      "metadata": {
        "id": "SU0NxECEjIRx"
      },
      "source": [
        "우선 도전 과제 중 **세 번째 과제**인\n",
        " - **세 개의 층을 사용하는 모델을 구현하라.**\n",
        " \n",
        "를 충족하기 위해 `Keras`의 `Dense layer`를 사용하려고 한다.\n",
        "\n",
        "레이어에 대해 간단하게 설명하자면 입 출력을 연결해주고 가중치를 포함하고 있다.\n",
        "\n",
        "`reLU`와 `softmax`의 특징과 차이는 밑의 내용과 같다."
      ]
    },
    {
      "cell_type": "markdown",
      "metadata": {
        "id": "TbrmMZdJ53UI"
      },
      "source": [
        "---\n",
        "\n",
        "**렐루(ReLU)**\n",
        "\n",
        " - 입력이 양수일 때 x, 음수일 때 0 출력\n",
        " - 경사하강에 영향 X -> 다른 활성화 함수에 비해 학습이 빠름\n",
        " - 보통 Hidden Layer에 사용\n",
        " - 음수 값을 입력 받으면 항상 0이기 때문에 훈련 능력 감소\n",
        "\n",
        "**소프트맥스(Softmax)**\n",
        "\n",
        " - 입력받은 값을 0~1 사이의 출력으로 정규화하여 출력 값들의 총합이 항상 1\n",
        " - 출력 노드의 활성화 함수로 많이 사용\n",
        "\n",
        "**시그모이드(Sigmoid)**\n",
        "\n",
        " - 선형함수의 결과를 0~1까지의 비선형 형태로 변형\n",
        "\n",
        "---"
      ]
    },
    {
      "cell_type": "markdown",
      "metadata": {
        "id": "kYRZiqRgOZFC"
      },
      "source": [
        "모델은 3개의 `Dense layer`으로 구성하였다.\n",
        "\n",
        "32, 64, 10개의 특성을 갖는 출력 값을 계산한 후 다음 층으로 전달하게 하도록 만들어 보자."
      ]
    },
    {
      "cell_type": "code",
      "metadata": {
        "id": "NCYIv1ZcOZFD"
      },
      "source": [
        "from tensorflow import keras\n",
        "from tensorflow.keras import layers\n",
        "\n",
        "model = keras.Sequential(  [\n",
        "        layers.Dense(32, activation=\"relu\"),\n",
        "        layers.Dense(64, activation=\"relu\"),\n",
        "        layers.Dense(10, activation=\"sigmoid\"),\n",
        "])"
      ],
      "execution_count": null,
      "outputs": []
    },
    {
      "cell_type": "code",
      "metadata": {
        "colab": {
          "base_uri": "https://localhost:8080/"
        },
        "id": "H7k-2y90xS2k",
        "outputId": "d8093cf7-2e7d-411d-8201-91d7a0353f4e"
      },
      "source": [
        "# 레이어 확인\n",
        "model.layers"
      ],
      "execution_count": null,
      "outputs": [
        {
          "output_type": "execute_result",
          "data": {
            "text/plain": [
              "[<keras.layers.core.Dense at 0x7f08883481d0>,\n",
              " <keras.layers.core.Dense at 0x7f0888352510>,\n",
              " <keras.layers.core.Dense at 0x7f0888352990>]"
            ]
          },
          "metadata": {},
          "execution_count": 7
        }
      ]
    },
    {
      "cell_type": "markdown",
      "metadata": {
        "id": "jIgTMPrSrEAP"
      },
      "source": [
        "---"
      ]
    },
    {
      "cell_type": "markdown",
      "metadata": {
        "id": "sITK0AxqOZFF"
      },
      "source": [
        "### **3. 모델 컴파일**"
      ]
    },
    {
      "cell_type": "markdown",
      "metadata": {
        "id": "BxQF_eA-OZFG"
      },
      "source": [
        "모델의 구조를 정의하고 아래 세 가지 설정을 추가로 지정해야 한다.\n",
        "\n",
        "- 옵티마이저(optimizer): 모델의 성능을 향상시키는 방향으로 가중치를 업데이트하는 알고리즘\n",
        "- 손실함수(loss function): 훈련 중 모델의 성능 얼마 나쁜가를 측정하는 기준. \n",
        "    - 미분가능이어야 하며 옵티마이저가 경사하강법을 활용하여 손실함숫값을 줄이는 방향으로 작동함.\n",
        "- 평가지표(metrics): 훈련과 테스트 과정을 모니터링 할 때 사용되는 모델 평가 지표. \n",
        "    - 옵티마이저 또는 손실함수와 일반적으로 상관 없음.\n",
        "\n",
        "여기서 평가지표(metrics)를 추가하기 때문에 **두번째 과제**인\n",
        " - **`metrics`로 예측 정확도를 훈련 과정 중에 측정하는 기능을 추가하라.**\n",
        " \n",
        " 도 만족하기 위해서 추가한다."
      ]
    },
    {
      "cell_type": "markdown",
      "metadata": {
        "id": "DDp_UCbrFtsZ"
      },
      "source": [
        "값을 계산하기 위해`RMSE`와 `R2`를 계산해서 가져온다."
      ]
    },
    {
      "cell_type": "code",
      "metadata": {
        "id": "E_V47bi6FuGe"
      },
      "source": [
        "# rmse 값 계산\n",
        "from keras import backend as K\n",
        "\n",
        "def root_mean_squared_error(y_true, y_pred):\n",
        "  return K.sqrt(K.mean(K.square(y_pred - y_true)))"
      ],
      "execution_count": null,
      "outputs": []
    },
    {
      "cell_type": "code",
      "metadata": {
        "id": "qJA-CcJaOZFG"
      },
      "source": [
        "model.compile(optimizer=\"rmsprop\",\n",
        "              loss=root_mean_squared_error,\n",
        "              metrics=[\"binary_accuracy\"])"
      ],
      "execution_count": null,
      "outputs": []
    },
    {
      "cell_type": "markdown",
      "metadata": {
        "id": "KtYCYItTrFBe"
      },
      "source": [
        "---"
      ]
    },
    {
      "cell_type": "markdown",
      "metadata": {
        "id": "hJ2navODOZFI"
      },
      "source": [
        "### **4. `fit()` 메서드**"
      ]
    },
    {
      "cell_type": "markdown",
      "metadata": {
        "id": "2V-odLj6OZFI"
      },
      "source": [
        "모델을 훈련시키려면 `fit()` 메서드를 적절한 인자들과 함께 호출해야 한다.\n",
        "\n",
        "- 훈련 세트: 아까 준비한 `inputs`과 `targets`을 가져 온다.\n",
        "- 에포크(`epochs`): 예제에서는 100번 훈련을 했으니 여기서도 동일.\n",
        "- 배치 크기(`batch_size`): 배치 크기를 지정해주어 미니배치 경사하강법을 충족\n",
        "\n",
        "아래 코드는 앞서 넘파이 어레이로 생성한 (2000, 2) 모양의 양성, 음성 데이터셋을 대상으로 훈련한다.\n",
        "\n",
        "그리고 **첫 번째 과제**인 \n",
        " - **위 코드는 배치 경사하강법을 사용한다. 이제 미니 배치 경사하강법이 작동하도록 하라.**\n",
        "\n",
        " 도 충족시킨다. 참고로 배치 크기는 조건인 100으로 지정하였다.\n",
        "\n",
        "**두 번째 과제**인 \n",
        "  - **`metrics`로 예측 정확도를 훈련 과정 중에 측정하는 기능을 추가하라.**\n",
        "\n",
        "보다시피 훈련 과정에서 `metrics`를 `accuracy`로 표시하는 것을 확인할 수 있다."
      ]
    },
    {
      "cell_type": "code",
      "metadata": {
        "id": "rVsd1bf_OZFI",
        "colab": {
          "base_uri": "https://localhost:8080/"
        },
        "outputId": "ef6ab365-bb84-4e47-b499-c031597e6dd0"
      },
      "source": [
        "history = model.fit(\n",
        "    inputs,\n",
        "    targets,\n",
        "    epochs=100,\n",
        "    batch_size=100\n",
        ")"
      ],
      "execution_count": null,
      "outputs": [
        {
          "output_type": "stream",
          "name": "stdout",
          "text": [
            "Epoch 1/100\n",
            "20/20 [==============================] - 1s 1ms/step - loss: 0.4480 - binary_accuracy: 0.7187\n",
            "Epoch 2/100\n",
            "20/20 [==============================] - 0s 1ms/step - loss: 0.2993 - binary_accuracy: 0.9829\n",
            "Epoch 3/100\n",
            "20/20 [==============================] - 0s 1ms/step - loss: 0.1671 - binary_accuracy: 0.9973\n",
            "Epoch 4/100\n",
            "20/20 [==============================] - 0s 2ms/step - loss: 0.0905 - binary_accuracy: 0.9982\n",
            "Epoch 5/100\n",
            "20/20 [==============================] - 0s 1ms/step - loss: 0.0543 - binary_accuracy: 0.9983\n",
            "Epoch 6/100\n",
            "20/20 [==============================] - 0s 1ms/step - loss: 0.0380 - binary_accuracy: 0.9985\n",
            "Epoch 7/100\n",
            "20/20 [==============================] - 0s 1ms/step - loss: 0.0305 - binary_accuracy: 0.9985\n",
            "Epoch 8/100\n",
            "20/20 [==============================] - 0s 1ms/step - loss: 0.0272 - binary_accuracy: 0.9980\n",
            "Epoch 9/100\n",
            "20/20 [==============================] - 0s 1ms/step - loss: 0.0242 - binary_accuracy: 0.9985\n",
            "Epoch 10/100\n",
            "20/20 [==============================] - 0s 1ms/step - loss: 0.0218 - binary_accuracy: 0.9979\n",
            "Epoch 11/100\n",
            "20/20 [==============================] - 0s 1ms/step - loss: 0.0226 - binary_accuracy: 0.9982\n",
            "Epoch 12/100\n",
            "20/20 [==============================] - 0s 1ms/step - loss: 0.0218 - binary_accuracy: 0.9984\n",
            "Epoch 13/100\n",
            "20/20 [==============================] - 0s 1ms/step - loss: 0.0205 - binary_accuracy: 0.9985\n",
            "Epoch 14/100\n",
            "20/20 [==============================] - 0s 1ms/step - loss: 0.0215 - binary_accuracy: 0.9980\n",
            "Epoch 15/100\n",
            "20/20 [==============================] - 0s 1ms/step - loss: 0.0187 - binary_accuracy: 0.9985\n",
            "Epoch 16/100\n",
            "20/20 [==============================] - 0s 1ms/step - loss: 0.0186 - binary_accuracy: 0.9980\n",
            "Epoch 17/100\n",
            "20/20 [==============================] - 0s 1ms/step - loss: 0.0188 - binary_accuracy: 0.9980\n",
            "Epoch 18/100\n",
            "20/20 [==============================] - 0s 1ms/step - loss: 0.0201 - binary_accuracy: 0.9980\n",
            "Epoch 19/100\n",
            "20/20 [==============================] - 0s 1ms/step - loss: 0.0179 - binary_accuracy: 0.9990\n",
            "Epoch 20/100\n",
            "20/20 [==============================] - 0s 2ms/step - loss: 0.0186 - binary_accuracy: 0.9985\n",
            "Epoch 21/100\n",
            "20/20 [==============================] - 0s 1ms/step - loss: 0.0178 - binary_accuracy: 0.9990\n",
            "Epoch 22/100\n",
            "20/20 [==============================] - 0s 1ms/step - loss: 0.0176 - binary_accuracy: 0.9980\n",
            "Epoch 23/100\n",
            "20/20 [==============================] - 0s 1ms/step - loss: 0.0194 - binary_accuracy: 0.9980\n",
            "Epoch 24/100\n",
            "20/20 [==============================] - 0s 1ms/step - loss: 0.0177 - binary_accuracy: 0.9990\n",
            "Epoch 25/100\n",
            "20/20 [==============================] - 0s 1ms/step - loss: 0.0170 - binary_accuracy: 0.9980\n",
            "Epoch 26/100\n",
            "20/20 [==============================] - 0s 949us/step - loss: 0.0180 - binary_accuracy: 0.9980\n",
            "Epoch 27/100\n",
            "20/20 [==============================] - 0s 1ms/step - loss: 0.0159 - binary_accuracy: 0.9985\n",
            "Epoch 28/100\n",
            "20/20 [==============================] - 0s 1ms/step - loss: 0.0152 - binary_accuracy: 0.9985\n",
            "Epoch 29/100\n",
            "20/20 [==============================] - 0s 1ms/step - loss: 0.0164 - binary_accuracy: 0.9985\n",
            "Epoch 30/100\n",
            "20/20 [==============================] - 0s 1ms/step - loss: 0.0139 - binary_accuracy: 0.9985\n",
            "Epoch 31/100\n",
            "20/20 [==============================] - 0s 1ms/step - loss: 0.0171 - binary_accuracy: 0.9985\n",
            "Epoch 32/100\n",
            "20/20 [==============================] - 0s 1ms/step - loss: 0.0186 - binary_accuracy: 0.9980\n",
            "Epoch 33/100\n",
            "20/20 [==============================] - 0s 1ms/step - loss: 0.0145 - binary_accuracy: 0.9990\n",
            "Epoch 34/100\n",
            "20/20 [==============================] - 0s 1ms/step - loss: 0.0184 - binary_accuracy: 0.9984\n",
            "Epoch 35/100\n",
            "20/20 [==============================] - 0s 1ms/step - loss: 0.0160 - binary_accuracy: 0.9980\n",
            "Epoch 36/100\n",
            "20/20 [==============================] - 0s 1ms/step - loss: 0.0171 - binary_accuracy: 0.9985\n",
            "Epoch 37/100\n",
            "20/20 [==============================] - 0s 1ms/step - loss: 0.0150 - binary_accuracy: 0.9985\n",
            "Epoch 38/100\n",
            "20/20 [==============================] - 0s 1ms/step - loss: 0.0183 - binary_accuracy: 0.9985\n",
            "Epoch 39/100\n",
            "20/20 [==============================] - 0s 1ms/step - loss: 0.0174 - binary_accuracy: 0.9980\n",
            "Epoch 40/100\n",
            "20/20 [==============================] - 0s 1ms/step - loss: 0.0167 - binary_accuracy: 0.9980\n",
            "Epoch 41/100\n",
            "20/20 [==============================] - 0s 1ms/step - loss: 0.0181 - binary_accuracy: 0.9990\n",
            "Epoch 42/100\n",
            "20/20 [==============================] - 0s 971us/step - loss: 0.0176 - binary_accuracy: 0.9985\n",
            "Epoch 43/100\n",
            "20/20 [==============================] - 0s 1ms/step - loss: 0.0161 - binary_accuracy: 0.9985\n",
            "Epoch 44/100\n",
            "20/20 [==============================] - 0s 960us/step - loss: 0.0181 - binary_accuracy: 0.9985\n",
            "Epoch 45/100\n",
            "20/20 [==============================] - 0s 986us/step - loss: 0.0174 - binary_accuracy: 0.9980\n",
            "Epoch 46/100\n",
            "20/20 [==============================] - 0s 991us/step - loss: 0.0173 - binary_accuracy: 0.9985\n",
            "Epoch 47/100\n",
            "20/20 [==============================] - 0s 1ms/step - loss: 0.0164 - binary_accuracy: 0.9985\n",
            "Epoch 48/100\n",
            "20/20 [==============================] - 0s 1ms/step - loss: 0.0164 - binary_accuracy: 0.9985\n",
            "Epoch 49/100\n",
            "20/20 [==============================] - 0s 1ms/step - loss: 0.0137 - binary_accuracy: 0.9985\n",
            "Epoch 50/100\n",
            "20/20 [==============================] - 0s 1ms/step - loss: 0.0177 - binary_accuracy: 0.9985\n",
            "Epoch 51/100\n",
            "20/20 [==============================] - 0s 1ms/step - loss: 0.0145 - binary_accuracy: 0.9980\n",
            "Epoch 52/100\n",
            "20/20 [==============================] - 0s 1ms/step - loss: 0.0163 - binary_accuracy: 0.9985\n",
            "Epoch 53/100\n",
            "20/20 [==============================] - 0s 1ms/step - loss: 0.0146 - binary_accuracy: 0.9985\n",
            "Epoch 54/100\n",
            "20/20 [==============================] - 0s 1ms/step - loss: 0.0171 - binary_accuracy: 0.9980\n",
            "Epoch 55/100\n",
            "20/20 [==============================] - 0s 966us/step - loss: 0.0144 - binary_accuracy: 0.9990\n",
            "Epoch 56/100\n",
            "20/20 [==============================] - 0s 1ms/step - loss: 0.0131 - binary_accuracy: 0.9985\n",
            "Epoch 57/100\n",
            "20/20 [==============================] - 0s 1ms/step - loss: 0.0143 - binary_accuracy: 0.9985\n",
            "Epoch 58/100\n",
            "20/20 [==============================] - 0s 1ms/step - loss: 0.0169 - binary_accuracy: 0.9985\n",
            "Epoch 59/100\n",
            "20/20 [==============================] - 0s 1ms/step - loss: 0.0164 - binary_accuracy: 0.9980\n",
            "Epoch 60/100\n",
            "20/20 [==============================] - 0s 1ms/step - loss: 0.0139 - binary_accuracy: 0.9985\n",
            "Epoch 61/100\n",
            "20/20 [==============================] - 0s 1ms/step - loss: 0.0148 - binary_accuracy: 0.9983\n",
            "Epoch 62/100\n",
            "20/20 [==============================] - 0s 1ms/step - loss: 0.0162 - binary_accuracy: 0.9985\n",
            "Epoch 63/100\n",
            "20/20 [==============================] - 0s 1ms/step - loss: 0.0139 - binary_accuracy: 0.9985\n",
            "Epoch 64/100\n",
            "20/20 [==============================] - 0s 982us/step - loss: 0.0153 - binary_accuracy: 0.9980\n",
            "Epoch 65/100\n",
            "20/20 [==============================] - 0s 1ms/step - loss: 0.0158 - binary_accuracy: 0.9980\n",
            "Epoch 66/100\n",
            "20/20 [==============================] - 0s 1ms/step - loss: 0.0178 - binary_accuracy: 0.9985\n",
            "Epoch 67/100\n",
            "20/20 [==============================] - 0s 1ms/step - loss: 0.0170 - binary_accuracy: 0.9980\n",
            "Epoch 68/100\n",
            "20/20 [==============================] - 0s 1ms/step - loss: 0.0156 - binary_accuracy: 0.9990\n",
            "Epoch 69/100\n",
            "20/20 [==============================] - 0s 1ms/step - loss: 0.0170 - binary_accuracy: 0.9982\n",
            "Epoch 70/100\n",
            "20/20 [==============================] - 0s 1ms/step - loss: 0.0172 - binary_accuracy: 0.9980\n",
            "Epoch 71/100\n",
            "20/20 [==============================] - 0s 2ms/step - loss: 0.0152 - binary_accuracy: 0.9985\n",
            "Epoch 72/100\n",
            "20/20 [==============================] - 0s 1ms/step - loss: 0.0146 - binary_accuracy: 0.9985\n",
            "Epoch 73/100\n",
            "20/20 [==============================] - 0s 1ms/step - loss: 0.0152 - binary_accuracy: 0.9985\n",
            "Epoch 74/100\n",
            "20/20 [==============================] - 0s 1ms/step - loss: 0.0156 - binary_accuracy: 0.9985\n",
            "Epoch 75/100\n",
            "20/20 [==============================] - 0s 1ms/step - loss: 0.0154 - binary_accuracy: 0.9985\n",
            "Epoch 76/100\n",
            "20/20 [==============================] - 0s 1ms/step - loss: 0.0147 - binary_accuracy: 0.9990\n",
            "Epoch 77/100\n",
            "20/20 [==============================] - 0s 1ms/step - loss: 0.0154 - binary_accuracy: 0.9985\n",
            "Epoch 78/100\n",
            "20/20 [==============================] - 0s 1ms/step - loss: 0.0122 - binary_accuracy: 0.9985\n",
            "Epoch 79/100\n",
            "20/20 [==============================] - 0s 2ms/step - loss: 0.0173 - binary_accuracy: 0.9980\n",
            "Epoch 80/100\n",
            "20/20 [==============================] - 0s 1ms/step - loss: 0.0170 - binary_accuracy: 0.9985\n",
            "Epoch 81/100\n",
            "20/20 [==============================] - 0s 1ms/step - loss: 0.0156 - binary_accuracy: 0.9980\n",
            "Epoch 82/100\n",
            "20/20 [==============================] - 0s 1ms/step - loss: 0.0136 - binary_accuracy: 0.9987\n",
            "Epoch 83/100\n",
            "20/20 [==============================] - 0s 1ms/step - loss: 0.0142 - binary_accuracy: 0.9980\n",
            "Epoch 84/100\n",
            "20/20 [==============================] - 0s 1ms/step - loss: 0.0166 - binary_accuracy: 0.9985\n",
            "Epoch 85/100\n",
            "20/20 [==============================] - 0s 1ms/step - loss: 0.0144 - binary_accuracy: 0.9985\n",
            "Epoch 86/100\n",
            "20/20 [==============================] - 0s 1ms/step - loss: 0.0156 - binary_accuracy: 0.9985\n",
            "Epoch 87/100\n",
            "20/20 [==============================] - 0s 1ms/step - loss: 0.0171 - binary_accuracy: 0.9985\n",
            "Epoch 88/100\n",
            "20/20 [==============================] - 0s 1ms/step - loss: 0.0168 - binary_accuracy: 0.9980\n",
            "Epoch 89/100\n",
            "20/20 [==============================] - 0s 2ms/step - loss: 0.0161 - binary_accuracy: 0.9985\n",
            "Epoch 90/100\n",
            "20/20 [==============================] - 0s 1ms/step - loss: 0.0160 - binary_accuracy: 0.9985\n",
            "Epoch 91/100\n",
            "20/20 [==============================] - 0s 1ms/step - loss: 0.0155 - binary_accuracy: 0.9985\n",
            "Epoch 92/100\n",
            "20/20 [==============================] - 0s 1ms/step - loss: 0.0160 - binary_accuracy: 0.9980\n",
            "Epoch 93/100\n",
            "20/20 [==============================] - 0s 1ms/step - loss: 0.0155 - binary_accuracy: 0.9980\n",
            "Epoch 94/100\n",
            "20/20 [==============================] - 0s 1ms/step - loss: 0.0149 - binary_accuracy: 0.9985\n",
            "Epoch 95/100\n",
            "20/20 [==============================] - 0s 1ms/step - loss: 0.0141 - binary_accuracy: 0.9985\n",
            "Epoch 96/100\n",
            "20/20 [==============================] - 0s 1ms/step - loss: 0.0165 - binary_accuracy: 0.9985\n",
            "Epoch 97/100\n",
            "20/20 [==============================] - 0s 1ms/step - loss: 0.0157 - binary_accuracy: 0.9985\n",
            "Epoch 98/100\n",
            "20/20 [==============================] - 0s 1ms/step - loss: 0.0158 - binary_accuracy: 0.9985\n",
            "Epoch 99/100\n",
            "20/20 [==============================] - 0s 1ms/step - loss: 0.0153 - binary_accuracy: 0.9985\n",
            "Epoch 100/100\n",
            "20/20 [==============================] - 0s 1ms/step - loss: 0.0154 - binary_accuracy: 0.9985\n"
          ]
        }
      ]
    },
    {
      "cell_type": "markdown",
      "metadata": {
        "id": "z4yfV_3nzW4Y"
      },
      "source": [
        "훈련이 종료되면 `fit()` 메서드는 `History` 객체를 반환하며,\n",
        "`history` 속성에 훈련 과정 중에 측정된 손실값, 평가지표를 에포크 단위로 기억한다."
      ]
    },
    {
      "cell_type": "code",
      "metadata": {
        "colab": {
          "base_uri": "https://localhost:8080/"
        },
        "id": "x90qmwNrogzT",
        "outputId": "c308d263-973b-4588-ec50-eba5389686e9"
      },
      "source": [
        "history.history"
      ],
      "execution_count": null,
      "outputs": [
        {
          "output_type": "execute_result",
          "data": {
            "text/plain": [
              "{'binary_accuracy': [0.7186500430107117,\n",
              "  0.9829002022743225,\n",
              "  0.9972999691963196,\n",
              "  0.9981500506401062,\n",
              "  0.9982500672340393,\n",
              "  0.9984999895095825,\n",
              "  0.9984999895095825,\n",
              "  0.9980000257492065,\n",
              "  0.9984999895095825,\n",
              "  0.9979000091552734,\n",
              "  0.998199999332428,\n",
              "  0.9984000325202942,\n",
              "  0.9984999895095825,\n",
              "  0.9980000257492065,\n",
              "  0.9984999895095825,\n",
              "  0.9980000257492065,\n",
              "  0.9980000257492065,\n",
              "  0.9980000257492065,\n",
              "  0.9989500045776367,\n",
              "  0.9984999895095825,\n",
              "  0.9990000128746033,\n",
              "  0.9980000257492065,\n",
              "  0.9980000257492065,\n",
              "  0.9989500045776367,\n",
              "  0.9980000257492065,\n",
              "  0.9980000257492065,\n",
              "  0.9984999895095825,\n",
              "  0.9984999895095825,\n",
              "  0.9984999895095825,\n",
              "  0.9984999895095825,\n",
              "  0.9984999895095825,\n",
              "  0.9980000257492065,\n",
              "  0.9990000128746033,\n",
              "  0.9984000325202942,\n",
              "  0.9980000257492065,\n",
              "  0.9984999895095825,\n",
              "  0.9984999895095825,\n",
              "  0.9985499978065491,\n",
              "  0.9980000257492065,\n",
              "  0.9980000257492065,\n",
              "  0.9990000128746033,\n",
              "  0.9984999895095825,\n",
              "  0.9984999895095825,\n",
              "  0.9984999895095825,\n",
              "  0.9980000257492065,\n",
              "  0.9984999895095825,\n",
              "  0.9984999895095825,\n",
              "  0.9984999895095825,\n",
              "  0.9984999895095825,\n",
              "  0.9984999895095825,\n",
              "  0.9980000257492065,\n",
              "  0.9984999895095825,\n",
              "  0.9984999895095825,\n",
              "  0.9980000257492065,\n",
              "  0.9989500045776367,\n",
              "  0.9984999895095825,\n",
              "  0.9984999895095825,\n",
              "  0.9984999895095825,\n",
              "  0.9980000257492065,\n",
              "  0.9984999895095825,\n",
              "  0.9983499646186829,\n",
              "  0.9984999895095825,\n",
              "  0.9984999895095825,\n",
              "  0.9980000257492065,\n",
              "  0.9980000257492065,\n",
              "  0.9984999895095825,\n",
              "  0.9980000257492065,\n",
              "  0.9990000128746033,\n",
              "  0.9981500506401062,\n",
              "  0.9980000257492065,\n",
              "  0.9984999895095825,\n",
              "  0.9984999895095825,\n",
              "  0.9984999895095825,\n",
              "  0.9984999895095825,\n",
              "  0.9984999895095825,\n",
              "  0.9990000128746033,\n",
              "  0.9984999895095825,\n",
              "  0.9984999895095825,\n",
              "  0.9980000257492065,\n",
              "  0.9984999895095825,\n",
              "  0.9980499744415283,\n",
              "  0.9986500144004822,\n",
              "  0.9980000257492065,\n",
              "  0.9984999895095825,\n",
              "  0.9984999895095825,\n",
              "  0.9984999895095825,\n",
              "  0.9984999895095825,\n",
              "  0.9980000257492065,\n",
              "  0.9984999895095825,\n",
              "  0.9984999895095825,\n",
              "  0.9984999895095825,\n",
              "  0.9980000257492065,\n",
              "  0.9980000257492065,\n",
              "  0.9984999895095825,\n",
              "  0.9984999895095825,\n",
              "  0.9984999895095825,\n",
              "  0.9984999895095825,\n",
              "  0.9984999895095825,\n",
              "  0.9984999895095825,\n",
              "  0.9984999895095825],\n",
              " 'loss': [0.4480244815349579,\n",
              "  0.29931309819221497,\n",
              "  0.16706159710884094,\n",
              "  0.0905328318476677,\n",
              "  0.05427122861146927,\n",
              "  0.038048263639211655,\n",
              "  0.030532507225871086,\n",
              "  0.027202537283301353,\n",
              "  0.024160334840416908,\n",
              "  0.02175760082900524,\n",
              "  0.022578762844204903,\n",
              "  0.02182994782924652,\n",
              "  0.02051485888659954,\n",
              "  0.02146073803305626,\n",
              "  0.018670454621315002,\n",
              "  0.01855473220348358,\n",
              "  0.018807344138622284,\n",
              "  0.020106839016079903,\n",
              "  0.017904363572597504,\n",
              "  0.018597913905978203,\n",
              "  0.017808593809604645,\n",
              "  0.017576999962329865,\n",
              "  0.019433556124567986,\n",
              "  0.01771099679172039,\n",
              "  0.017044294625520706,\n",
              "  0.017992228269577026,\n",
              "  0.015872061252593994,\n",
              "  0.015207466669380665,\n",
              "  0.01638127490878105,\n",
              "  0.01385642308741808,\n",
              "  0.01713895983994007,\n",
              "  0.01862918585538864,\n",
              "  0.014501522295176983,\n",
              "  0.018361292779445648,\n",
              "  0.015978878363966942,\n",
              "  0.01707622967660427,\n",
              "  0.01503934059292078,\n",
              "  0.01827615685760975,\n",
              "  0.017416605725884438,\n",
              "  0.016677388921380043,\n",
              "  0.018102064728736877,\n",
              "  0.017578119412064552,\n",
              "  0.01611071079969406,\n",
              "  0.01810557395219803,\n",
              "  0.017410527914762497,\n",
              "  0.01729058101773262,\n",
              "  0.01640983112156391,\n",
              "  0.016352899372577667,\n",
              "  0.013746646232903004,\n",
              "  0.01773609034717083,\n",
              "  0.014540489763021469,\n",
              "  0.016267208382487297,\n",
              "  0.014646967872977257,\n",
              "  0.01710076630115509,\n",
              "  0.01444511953741312,\n",
              "  0.01314596738666296,\n",
              "  0.01427902840077877,\n",
              "  0.01686904765665531,\n",
              "  0.0163952074944973,\n",
              "  0.013894724659621716,\n",
              "  0.014842807315289974,\n",
              "  0.01617136225104332,\n",
              "  0.013943279162049294,\n",
              "  0.015272069722414017,\n",
              "  0.01576980948448181,\n",
              "  0.017757927998900414,\n",
              "  0.016972951591014862,\n",
              "  0.01560324989259243,\n",
              "  0.01697312481701374,\n",
              "  0.017153404653072357,\n",
              "  0.015156013891100883,\n",
              "  0.014592279680073261,\n",
              "  0.015165667980909348,\n",
              "  0.015557431615889072,\n",
              "  0.015427307225763798,\n",
              "  0.014676425606012344,\n",
              "  0.01541640143841505,\n",
              "  0.01215052604675293,\n",
              "  0.017321757972240448,\n",
              "  0.01700255274772644,\n",
              "  0.015602605417370796,\n",
              "  0.013573452830314636,\n",
              "  0.014237507246434689,\n",
              "  0.016574885696172714,\n",
              "  0.01437422540038824,\n",
              "  0.0155769232660532,\n",
              "  0.017114581540226936,\n",
              "  0.016783643513917923,\n",
              "  0.01609157584607601,\n",
              "  0.016021031886339188,\n",
              "  0.015512067824602127,\n",
              "  0.015978360548615456,\n",
              "  0.015481005422770977,\n",
              "  0.014940549619495869,\n",
              "  0.014051356352865696,\n",
              "  0.01647675782442093,\n",
              "  0.01571117341518402,\n",
              "  0.01578996144235134,\n",
              "  0.015294445678591728,\n",
              "  0.01535155437886715]}"
            ]
          },
          "metadata": {},
          "execution_count": 11
        }
      ]
    },
    {
      "cell_type": "markdown",
      "metadata": {
        "id": "N-3PlCBE0ER1"
      },
      "source": [
        "### **5. 예측**"
      ]
    },
    {
      "cell_type": "markdown",
      "metadata": {
        "id": "iatl5FgS0gkx"
      },
      "source": [
        "__도전 과제__: \n",
        "\n",
        "1. 위 코드는 배치 경사하강법을 사용한다. 이제 미니 배치 경사하강법이 작동하도록 하라. \n",
        "    배치 크기는 100으로 한다.\n",
        "1. `metrics`로 예측 정확도를 훈련 과정 중에 측정하는 기능을 추가하라. \n",
        "1. 세 개의 층을 사용하는 모델을 구현하라. \n",
        "\n",
        "세 가지 도전 과제를 충족한 예측 결과를 그래프로 확인하면 다음과 같다."
      ]
    },
    {
      "cell_type": "code",
      "metadata": {
        "id": "DV36TlrC0ER-"
      },
      "source": [
        "predictions = model.predict(inputs)"
      ],
      "execution_count": null,
      "outputs": []
    },
    {
      "cell_type": "code",
      "metadata": {
        "colab": {
          "base_uri": "https://localhost:8080/",
          "height": 265
        },
        "id": "iyyVTESptkxC",
        "outputId": "b789599e-b17f-47d7-944c-318d5c8b14f9"
      },
      "source": [
        "# predictions 예측 결과\n",
        "plt.scatter(inputs[:, 0], inputs[:, 1], c=predictions[:, 0] > 0.5)\n",
        "plt.show()"
      ],
      "execution_count": null,
      "outputs": [
        {
          "output_type": "display_data",
          "data": {
            "image/png": "[encoded data removed]",
            "text/plain": [
              "<Figure size 432x288 with 1 Axes>"
            ]
          },
          "metadata": {
            "needs_background": "light"
          }
        }
      ]
    },
    {
      "cell_type": "markdown",
      "metadata": {
        "id": "wjBHSATNOVqp"
      },
      "source": [
        "그리고 밑은 예측 결과가 아닌 처음에 `inputs`과 `targets`을 그래프로 그린 것이다."
      ]
    },
    {
      "cell_type": "code",
      "metadata": {
        "colab": {
          "base_uri": "https://localhost:8080/",
          "height": 265
        },
        "id": "PngBpD_yN98l",
        "outputId": "d65fe359-b871-4b9a-ded1-103fab8de990"
      },
      "source": [
        "# 맨 위의 샘플 구성 그래프\n",
        "plt.scatter(inputs[:, 0], inputs[:, 1], c=targets[:, 0])\n",
        "plt.show()"
      ],
      "execution_count": null,
      "outputs": [
        {
          "output_type": "display_data",
          "data": {
            "image/png": "[encoded data removed]",
            "text/plain": [
              "<Figure size 432x288 with 1 Axes>"
            ]
          },
          "metadata": {
            "needs_background": "light"
          }
        }
      ]
    },
    {
      "cell_type": "markdown",
      "metadata": {
        "id": "G3y74R1PN6Ib"
      },
      "source": [
        "위의 그래프와 비교했을 때, 확실히 겹치는 부분이 사라진 것을 확인할 수 있었다."
      ]
    }
  ]
}